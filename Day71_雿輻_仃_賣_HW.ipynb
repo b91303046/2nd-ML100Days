{
  "nbformat": 4,
  "nbformat_minor": 0,
  "metadata": {
    "colab": {
      "name": "Day71-雿輻_仃_賣_HW.ipynb",
      "version": "0.3.2",
      "provenance": [],
      "collapsed_sections": [],
      "include_colab_link": true
    },
    "language_info": {
      "codemirror_mode": {
        "name": "ipython",
        "version": 3
      },
      "file_extension": ".py",
      "mimetype": "text/x-python",
      "name": "python",
      "nbconvert_exporter": "python",
      "pygments_lexer": "ipython3",
      "version": "3.7.0"
    },
    "kernelspec": {
      "name": "python3",
      "display_name": "Python 3"
    },
    "accelerator": "GPU"
  },
  "cells": [
    {
      "cell_type": "markdown",
      "metadata": {
        "id": "view-in-github",
        "colab_type": "text"
      },
      "source": [
        "<a href=\"https://colab.research.google.com/github/b91303046/2nd-ML100Days/blob/master/Day71_%E9%9B%BF%E8%BC%BB%EE%9C%85_%EF%9A%97%E4%BB%83_%E8%B3%A3%EE%9E%B2_HW.ipynb\" target=\"_parent\"><img src=\"https://colab.research.google.com/assets/colab-badge.svg\" alt=\"Open In Colab\"/></a>"
      ]
    },
    {
      "cell_type": "markdown",
      "metadata": {
        "colab_type": "text",
        "id": "cj4tE8e8iUtO"
      },
      "source": [
        "#   \n",
        "\n",
        "# 作業目標:\n",
        "\n",
        "    1. 藉由固定的 dataset, 來驗證不同loss function\n",
        "    2. Dataset 的特性跟我們選用的loss function 對accrancy 的影響\n",
        "    \n",
        "    \n",
        "# 作業重點: \n",
        "    請分別選用 \"MSE\", \"binary _crossentropy\"\n",
        "    查看Train/test accurancy and loss rate\n",
        "    "
      ]
    },
    {
      "cell_type": "markdown",
      "metadata": {
        "colab_type": "text",
        "id": "R51J4KyyiUsL"
      },
      "source": [
        "# 導入必要的函數"
      ]
    },
    {
      "cell_type": "code",
      "metadata": {
        "colab_type": "code",
        "id": "Qd68OQjciUsM",
        "outputId": "1b36d9ee-d894-481d-8a05-e248b5a28234",
        "colab": {
          "base_uri": "https://localhost:8080/",
          "height": 34
        }
      },
      "source": [
        "from keras.datasets import cifar10\n",
        "import numpy as np\n",
        "np.random.seed(10)"
      ],
      "execution_count": 1,
      "outputs": [
        {
          "output_type": "stream",
          "text": [
            "Using TensorFlow backend.\n"
          ],
          "name": "stderr"
        }
      ]
    },
    {
      "cell_type": "markdown",
      "metadata": {
        "colab_type": "text",
        "id": "GxKuzQLQiUsP"
      },
      "source": [
        "# 資料準備"
      ]
    },
    {
      "cell_type": "code",
      "metadata": {
        "colab_type": "code",
        "id": "MIbFZdTCiUsQ",
        "colab": {
          "base_uri": "https://localhost:8080/",
          "height": 51
        },
        "outputId": "5f96d966-449d-41b6-ce5b-0ffdcc5028ab"
      },
      "source": [
        "#取得Keras Dataset\n",
        "(x_img_train,y_label_train),(x_img_test,y_label_test)=cifar10.load_data()"
      ],
      "execution_count": 2,
      "outputs": [
        {
          "output_type": "stream",
          "text": [
            "Downloading data from https://www.cs.toronto.edu/~kriz/cifar-10-python.tar.gz\n",
            "170500096/170498071 [==============================] - 2s 0us/step\n"
          ],
          "name": "stdout"
        }
      ]
    },
    {
      "cell_type": "code",
      "metadata": {
        "colab_type": "code",
        "id": "J8CJVjNOiUsS",
        "outputId": "c29fd055-8edc-4f85-8c1c-e6a720656fcb",
        "colab": {
          "base_uri": "https://localhost:8080/",
          "height": 51
        }
      },
      "source": [
        "#確認 CIFAR10 Dataset 資料維度\n",
        "print(\"train data:\",'images:',x_img_train.shape,\n",
        "      \" labels:\",y_label_train.shape) \n",
        "print(\"test  data:\",'images:',x_img_test.shape ,\n",
        "      \" labels:\",y_label_test.shape) "
      ],
      "execution_count": 3,
      "outputs": [
        {
          "output_type": "stream",
          "text": [
            "train data: images: (50000, 32, 32, 3)  labels: (50000, 1)\n",
            "test  data: images: (10000, 32, 32, 3)  labels: (10000, 1)\n"
          ],
          "name": "stdout"
        }
      ]
    },
    {
      "cell_type": "code",
      "metadata": {
        "colab_type": "code",
        "id": "V3P6P4DXiUsV",
        "colab": {}
      },
      "source": [
        "#資料正規化\n",
        "x_img_train_normalize = x_img_train.astype('float32') / 255.0\n",
        "x_img_test_normalize = x_img_test.astype('float32') / 255.0"
      ],
      "execution_count": 0,
      "outputs": []
    },
    {
      "cell_type": "code",
      "metadata": {
        "colab_type": "code",
        "id": "vsDyjKYliUsX",
        "outputId": "d0931a6c-050d-48f1-9ae0-d890441a1390",
        "colab": {
          "base_uri": "https://localhost:8080/",
          "height": 34
        }
      },
      "source": [
        "#針對Label 做 ONE HOT ENCODE\n",
        "from keras.utils import np_utils\n",
        "y_label_train_OneHot = np_utils.to_categorical(y_label_train)\n",
        "y_label_test_OneHot = np_utils.to_categorical(y_label_test)\n",
        "y_label_test_OneHot.shape"
      ],
      "execution_count": 5,
      "outputs": [
        {
          "output_type": "execute_result",
          "data": {
            "text/plain": [
              "(10000, 10)"
            ]
          },
          "metadata": {
            "tags": []
          },
          "execution_count": 5
        }
      ]
    },
    {
      "cell_type": "markdown",
      "metadata": {
        "colab_type": "text",
        "id": "RutW2OtgiUsZ"
      },
      "source": [
        "# 建立模型"
      ]
    },
    {
      "cell_type": "code",
      "metadata": {
        "colab_type": "code",
        "id": "aHz592aXiUsa",
        "colab": {}
      },
      "source": [
        "from keras.models import Sequential\n",
        "from keras.layers import Dense, Dropout, Activation, Flatten\n",
        "from keras.layers import Conv2D, MaxPooling2D, ZeroPadding2D"
      ],
      "execution_count": 0,
      "outputs": []
    },
    {
      "cell_type": "code",
      "metadata": {
        "colab_type": "code",
        "id": "hslqrIp0iUse",
        "outputId": "8b35bf9b-7f68-4bb7-e3ff-89d90c17b567",
        "colab": {
          "base_uri": "https://localhost:8080/",
          "height": 88
        }
      },
      "source": [
        "model = Sequential()"
      ],
      "execution_count": 7,
      "outputs": [
        {
          "output_type": "stream",
          "text": [
            "WARNING: Logging before flag parsing goes to stderr.\n",
            "W0709 01:07:36.038572 139744237205376 deprecation_wrapper.py:119] From /usr/local/lib/python3.6/dist-packages/keras/backend/tensorflow_backend.py:74: The name tf.get_default_graph is deprecated. Please use tf.compat.v1.get_default_graph instead.\n",
            "\n"
          ],
          "name": "stderr"
        }
      ]
    },
    {
      "cell_type": "code",
      "metadata": {
        "colab_type": "code",
        "id": "Hqe35hs2iUsi",
        "colab": {}
      },
      "source": [
        "#卷積層1"
      ],
      "execution_count": 0,
      "outputs": []
    },
    {
      "cell_type": "code",
      "metadata": {
        "colab_type": "code",
        "id": "ED7dqe1YiUsm",
        "outputId": "776ce44f-f020-4884-a4df-736a129672f3",
        "colab": {
          "base_uri": "https://localhost:8080/",
          "height": 105
        }
      },
      "source": [
        "model.add(Conv2D(filters=32,kernel_size=(3,3),\n",
        "                 input_shape=(32, 32,3), \n",
        "                 activation='relu', \n",
        "                 padding='same'))"
      ],
      "execution_count": 9,
      "outputs": [
        {
          "output_type": "stream",
          "text": [
            "W0709 01:07:36.094048 139744237205376 deprecation_wrapper.py:119] From /usr/local/lib/python3.6/dist-packages/keras/backend/tensorflow_backend.py:517: The name tf.placeholder is deprecated. Please use tf.compat.v1.placeholder instead.\n",
            "\n",
            "W0709 01:07:36.105837 139744237205376 deprecation_wrapper.py:119] From /usr/local/lib/python3.6/dist-packages/keras/backend/tensorflow_backend.py:4138: The name tf.random_uniform is deprecated. Please use tf.random.uniform instead.\n",
            "\n"
          ],
          "name": "stderr"
        }
      ]
    },
    {
      "cell_type": "code",
      "metadata": {
        "colab_type": "code",
        "id": "n-GRKmPViUso",
        "outputId": "2a32f552-c38d-4c72-9af9-a36597a80829",
        "colab": {
          "base_uri": "https://localhost:8080/",
          "height": 122
        }
      },
      "source": [
        "model.add(Dropout(rate=0.25))"
      ],
      "execution_count": 10,
      "outputs": [
        {
          "output_type": "stream",
          "text": [
            "W0709 01:07:36.151464 139744237205376 deprecation_wrapper.py:119] From /usr/local/lib/python3.6/dist-packages/keras/backend/tensorflow_backend.py:133: The name tf.placeholder_with_default is deprecated. Please use tf.compat.v1.placeholder_with_default instead.\n",
            "\n",
            "W0709 01:07:36.167176 139744237205376 deprecation.py:506] From /usr/local/lib/python3.6/dist-packages/keras/backend/tensorflow_backend.py:3445: calling dropout (from tensorflow.python.ops.nn_ops) with keep_prob is deprecated and will be removed in a future version.\n",
            "Instructions for updating:\n",
            "Please use `rate` instead of `keep_prob`. Rate should be set to `rate = 1 - keep_prob`.\n"
          ],
          "name": "stderr"
        }
      ]
    },
    {
      "cell_type": "code",
      "metadata": {
        "colab_type": "code",
        "id": "GlWnnD1uiUsw",
        "outputId": "a1e71179-d1c5-4100-ffa7-a24d4811e8fe",
        "colab": {
          "base_uri": "https://localhost:8080/",
          "height": 71
        }
      },
      "source": [
        "model.add(MaxPooling2D(pool_size=(2, 2)))"
      ],
      "execution_count": 11,
      "outputs": [
        {
          "output_type": "stream",
          "text": [
            "W0709 01:07:36.191044 139744237205376 deprecation_wrapper.py:119] From /usr/local/lib/python3.6/dist-packages/keras/backend/tensorflow_backend.py:3976: The name tf.nn.max_pool is deprecated. Please use tf.nn.max_pool2d instead.\n",
            "\n"
          ],
          "name": "stderr"
        }
      ]
    },
    {
      "cell_type": "code",
      "metadata": {
        "colab_type": "code",
        "id": "nawlkt55iUsy",
        "colab": {}
      },
      "source": [
        "#卷積層2與池化層2"
      ],
      "execution_count": 0,
      "outputs": []
    },
    {
      "cell_type": "code",
      "metadata": {
        "colab_type": "code",
        "id": "xxyETiKNiUs1",
        "colab": {}
      },
      "source": [
        "model.add(Conv2D(filters=64, kernel_size=(3, 3), \n",
        "                 activation='relu', padding='same'))"
      ],
      "execution_count": 0,
      "outputs": []
    },
    {
      "cell_type": "code",
      "metadata": {
        "colab_type": "code",
        "id": "RqcKWtqGiUs2",
        "colab": {}
      },
      "source": [
        "model.add(Dropout(0.25))"
      ],
      "execution_count": 0,
      "outputs": []
    },
    {
      "cell_type": "code",
      "metadata": {
        "colab_type": "code",
        "id": "BUOOzlqfiUs4",
        "colab": {}
      },
      "source": [
        "model.add(MaxPooling2D(pool_size=(2, 2)))"
      ],
      "execution_count": 0,
      "outputs": []
    },
    {
      "cell_type": "code",
      "metadata": {
        "colab_type": "code",
        "id": "LpkppB2siUs7",
        "colab": {}
      },
      "source": [
        "#建立神經網路(平坦層、隱藏層、輸出層)"
      ],
      "execution_count": 0,
      "outputs": []
    },
    {
      "cell_type": "code",
      "metadata": {
        "colab_type": "code",
        "id": "UQOfU54_iUs_",
        "colab": {}
      },
      "source": [
        "model.add(Flatten())\n",
        "model.add(Dropout(rate=0.25))"
      ],
      "execution_count": 0,
      "outputs": []
    },
    {
      "cell_type": "code",
      "metadata": {
        "colab_type": "code",
        "id": "_NV-8sq4iUtD",
        "colab": {}
      },
      "source": [
        "model.add(Dense(1024, activation='relu'))\n",
        "model.add(Dropout(rate=0.25))"
      ],
      "execution_count": 0,
      "outputs": []
    },
    {
      "cell_type": "code",
      "metadata": {
        "colab_type": "code",
        "id": "qVK77krOiUtF",
        "colab": {}
      },
      "source": [
        "model.add(Dense(10, activation='softmax'))"
      ],
      "execution_count": 0,
      "outputs": []
    },
    {
      "cell_type": "code",
      "metadata": {
        "colab_type": "code",
        "id": "ZxzRIjR0iUtH",
        "outputId": "8889e9d4-ef61-4001-c81e-cb3921a41ab1",
        "colab": {
          "base_uri": "https://localhost:8080/",
          "height": 527
        }
      },
      "source": [
        "#檢查model 的STACK\n",
        "print(model.summary())"
      ],
      "execution_count": 20,
      "outputs": [
        {
          "output_type": "stream",
          "text": [
            "_________________________________________________________________\n",
            "Layer (type)                 Output Shape              Param #   \n",
            "=================================================================\n",
            "conv2d_1 (Conv2D)            (None, 32, 32, 32)        896       \n",
            "_________________________________________________________________\n",
            "dropout_1 (Dropout)          (None, 32, 32, 32)        0         \n",
            "_________________________________________________________________\n",
            "max_pooling2d_1 (MaxPooling2 (None, 16, 16, 32)        0         \n",
            "_________________________________________________________________\n",
            "conv2d_2 (Conv2D)            (None, 16, 16, 64)        18496     \n",
            "_________________________________________________________________\n",
            "dropout_2 (Dropout)          (None, 16, 16, 64)        0         \n",
            "_________________________________________________________________\n",
            "max_pooling2d_2 (MaxPooling2 (None, 8, 8, 64)          0         \n",
            "_________________________________________________________________\n",
            "flatten_1 (Flatten)          (None, 4096)              0         \n",
            "_________________________________________________________________\n",
            "dropout_3 (Dropout)          (None, 4096)              0         \n",
            "_________________________________________________________________\n",
            "dense_1 (Dense)              (None, 1024)              4195328   \n",
            "_________________________________________________________________\n",
            "dropout_4 (Dropout)          (None, 1024)              0         \n",
            "_________________________________________________________________\n",
            "dense_2 (Dense)              (None, 10)                10250     \n",
            "=================================================================\n",
            "Total params: 4,224,970\n",
            "Trainable params: 4,224,970\n",
            "Non-trainable params: 0\n",
            "_________________________________________________________________\n",
            "None\n"
          ],
          "name": "stdout"
        }
      ]
    },
    {
      "cell_type": "markdown",
      "metadata": {
        "colab_type": "text",
        "id": "QJCtpJM0iUtJ"
      },
      "source": [
        "# 載入之前訓練的模型"
      ]
    },
    {
      "cell_type": "code",
      "metadata": {
        "colab_type": "code",
        "id": "JU3A6NzQiUtK",
        "outputId": "d195d114-34a7-46ea-856e-169b610a6e84",
        "colab": {
          "base_uri": "https://localhost:8080/",
          "height": 34
        }
      },
      "source": [
        "try:\n",
        "    model.load_weights(\"SaveModel/cifarCnnModel.h5\")\n",
        "    print(\"載入模型成功!繼續訓練模型\")\n",
        "except :    \n",
        "    print(\"載入模型失敗!開始訓練一個新模型\")"
      ],
      "execution_count": 21,
      "outputs": [
        {
          "output_type": "stream",
          "text": [
            "載入模型失敗!開始訓練一個新模型\n"
          ],
          "name": "stdout"
        }
      ]
    },
    {
      "cell_type": "markdown",
      "metadata": {
        "colab_type": "text",
        "id": "qBbCuziziUtM"
      },
      "source": [
        "# 訓練模型"
      ]
    },
    {
      "cell_type": "code",
      "metadata": {
        "colab_type": "code",
        "id": "Q6BiBcseiUtP",
        "outputId": "a1b56795-6ab3-48ca-abfb-94035e31298b",
        "colab": {
          "base_uri": "https://localhost:8080/",
          "height": 825
        }
      },
      "source": [
        "model.compile(loss='MSE', optimizer='sgd', metrics=['accuracy'])\n",
        "train_history=model.fit(x_img_train_normalize, y_label_train_OneHot,\n",
        "                        validation_split=0.25,\n",
        "                        epochs=12, batch_size=128, verbose=1)\n",
        "import matplotlib.pyplot as plt\n",
        "%matplotlib inline\n",
        "\n",
        "#定義一個繪圖函數\n",
        "def show_train_history(train_acc,test_acc):\n",
        "    plt.plot(train_history.history[train_acc])\n",
        "    plt.plot(train_history.history[test_acc])\n",
        "    plt.title('Train History')\n",
        "    plt.ylabel('Accuracy')\n",
        "    plt.xlabel('Epoch')\n",
        "    plt.legend(['train_acc', 'val_acc'], loc='upper left')\n",
        "    plt.show()\n",
        "show_train_history('acc','val_acc')\n",
        "\n",
        "'''\n",
        "作業:\n",
        "請分別選用 \"MSE\", \"binary _crossentropy\"\n",
        "查看Train/test accurancy and loss rate\n",
        "'''"
      ],
      "execution_count": 22,
      "outputs": [
        {
          "output_type": "stream",
          "text": [
            "W0709 01:07:36.416936 139744237205376 deprecation_wrapper.py:119] From /usr/local/lib/python3.6/dist-packages/keras/optimizers.py:790: The name tf.train.Optimizer is deprecated. Please use tf.compat.v1.train.Optimizer instead.\n",
            "\n",
            "W0709 01:07:36.777476 139744237205376 deprecation_wrapper.py:119] From /usr/local/lib/python3.6/dist-packages/keras/backend/tensorflow_backend.py:986: The name tf.assign_add is deprecated. Please use tf.compat.v1.assign_add instead.\n",
            "\n"
          ],
          "name": "stderr"
        },
        {
          "output_type": "stream",
          "text": [
            "Train on 37500 samples, validate on 12500 samples\n",
            "Epoch 1/12\n",
            "37500/37500 [==============================] - 11s 297us/step - loss: 0.0904 - acc: 0.1085 - val_loss: 0.0898 - val_acc: 0.1318\n",
            "Epoch 2/12\n",
            "37500/37500 [==============================] - 4s 104us/step - loss: 0.0901 - acc: 0.1087 - val_loss: 0.0897 - val_acc: 0.1395\n",
            "Epoch 3/12\n",
            "37500/37500 [==============================] - 4s 115us/step - loss: 0.0899 - acc: 0.1182 - val_loss: 0.0897 - val_acc: 0.1428\n",
            "Epoch 4/12\n",
            "37500/37500 [==============================] - 5s 122us/step - loss: 0.0898 - acc: 0.1220 - val_loss: 0.0896 - val_acc: 0.1502\n",
            "Epoch 5/12\n",
            "37500/37500 [==============================] - 6s 149us/step - loss: 0.0897 - acc: 0.1261 - val_loss: 0.0895 - val_acc: 0.1574\n",
            "Epoch 6/12\n",
            "37500/37500 [==============================] - 7s 179us/step - loss: 0.0896 - acc: 0.1323 - val_loss: 0.0895 - val_acc: 0.1663\n",
            "Epoch 7/12\n",
            "37500/37500 [==============================] - 7s 183us/step - loss: 0.0895 - acc: 0.1392 - val_loss: 0.0894 - val_acc: 0.1726\n",
            "Epoch 8/12\n",
            "37500/37500 [==============================] - 7s 178us/step - loss: 0.0894 - acc: 0.1431 - val_loss: 0.0893 - val_acc: 0.1808\n",
            "Epoch 9/12\n",
            "37500/37500 [==============================] - 7s 180us/step - loss: 0.0893 - acc: 0.1477 - val_loss: 0.0892 - val_acc: 0.1899\n",
            "Epoch 10/12\n",
            "37500/37500 [==============================] - 7s 183us/step - loss: 0.0891 - acc: 0.1539 - val_loss: 0.0892 - val_acc: 0.1937\n",
            "Epoch 11/12\n",
            "37500/37500 [==============================] - 7s 181us/step - loss: 0.0890 - acc: 0.1592 - val_loss: 0.0891 - val_acc: 0.1998\n",
            "Epoch 12/12\n",
            "37500/37500 [==============================] - 7s 181us/step - loss: 0.0888 - acc: 0.1639 - val_loss: 0.0890 - val_acc: 0.2043\n"
          ],
          "name": "stdout"
        },
        {
          "output_type": "display_data",
          "data": {
            "image/png": "[encoded data removed]",
            "text/plain": [
              "<Figure size 432x288 with 1 Axes>"
            ]
          },
          "metadata": {
            "tags": []
          }
        },
        {
          "output_type": "execute_result",
          "data": {
            "text/plain": [
              "'\\n作業:\\n請分別選用 \"MSE\", \"binary _crossentropy\"\\n查看Train/test accurancy and loss rate\\n'"
            ]
          },
          "metadata": {
            "tags": []
          },
          "execution_count": 22
        }
      ]
    },
    {
      "cell_type": "code",
      "metadata": {
        "colab_type": "code",
        "id": "4-GdDgmQiUtS",
        "colab": {
          "base_uri": "https://localhost:8080/",
          "height": 791
        },
        "outputId": "8f822a16-c99a-4d29-f95f-34b3f4526fa7"
      },
      "source": [
        "model.compile(loss='binary_crossentropy', optimizer='sgd', metrics=['accuracy'])\n",
        "train_history=model.fit(x_img_train_normalize, y_label_train_OneHot,\n",
        "                        validation_split=0.25,\n",
        "                        epochs=12, batch_size=128, verbose=1)\n",
        "import matplotlib.pyplot as plt\n",
        "%matplotlib inline\n",
        "\n",
        "#定義一個繪圖函數\n",
        "def show_train_history(train_acc,test_acc):\n",
        "    plt.plot(train_history.history[train_acc])\n",
        "    plt.plot(train_history.history[test_acc])\n",
        "    plt.title('Train History')\n",
        "    plt.ylabel('Accuracy')\n",
        "    plt.xlabel('Epoch')\n",
        "    plt.legend(['train_acc', 'val_acc'], loc='upper left')\n",
        "    plt.show()\n",
        "show_train_history('acc','val_acc')\n"
      ],
      "execution_count": 23,
      "outputs": [
        {
          "output_type": "stream",
          "text": [
            "W0709 01:08:54.248940 139744237205376 deprecation.py:323] From /usr/local/lib/python3.6/dist-packages/tensorflow/python/ops/nn_impl.py:180: add_dispatch_support.<locals>.wrapper (from tensorflow.python.ops.array_ops) is deprecated and will be removed in a future version.\n",
            "Instructions for updating:\n",
            "Use tf.where in 2.0, which has the same broadcast rule as np.where\n"
          ],
          "name": "stderr"
        },
        {
          "output_type": "stream",
          "text": [
            "Train on 37500 samples, validate on 12500 samples\n",
            "Epoch 1/12\n",
            "37500/37500 [==============================] - 8s 212us/step - loss: 0.3173 - acc: 0.9000 - val_loss: 0.3168 - val_acc: 0.9000\n",
            "Epoch 2/12\n",
            "37500/37500 [==============================] - 7s 192us/step - loss: 0.3129 - acc: 0.9000 - val_loss: 0.3129 - val_acc: 0.9000\n",
            "Epoch 3/12\n",
            "37500/37500 [==============================] - 7s 192us/step - loss: 0.3074 - acc: 0.9000 - val_loss: 0.3082 - val_acc: 0.9000\n",
            "Epoch 4/12\n",
            "37500/37500 [==============================] - 5s 130us/step - loss: 0.3017 - acc: 0.9000 - val_loss: 0.3037 - val_acc: 0.9000\n",
            "Epoch 5/12\n",
            "37500/37500 [==============================] - 4s 106us/step - loss: 0.2970 - acc: 0.9002 - val_loss: 0.2995 - val_acc: 0.9000\n",
            "Epoch 6/12\n",
            "37500/37500 [==============================] - 4s 105us/step - loss: 0.2935 - acc: 0.9004 - val_loss: 0.2967 - val_acc: 0.9000\n",
            "Epoch 7/12\n",
            "37500/37500 [==============================] - 4s 108us/step - loss: 0.2909 - acc: 0.9005 - val_loss: 0.2940 - val_acc: 0.9001\n",
            "Epoch 8/12\n",
            "37500/37500 [==============================] - 4s 106us/step - loss: 0.2886 - acc: 0.9007 - val_loss: 0.2924 - val_acc: 0.9000\n",
            "Epoch 9/12\n",
            "37500/37500 [==============================] - 4s 105us/step - loss: 0.2866 - acc: 0.9006 - val_loss: 0.2904 - val_acc: 0.9002\n",
            "Epoch 10/12\n",
            "37500/37500 [==============================] - 4s 105us/step - loss: 0.2850 - acc: 0.9008 - val_loss: 0.2892 - val_acc: 0.9001\n",
            "Epoch 11/12\n",
            "37500/37500 [==============================] - 4s 105us/step - loss: 0.2830 - acc: 0.9010 - val_loss: 0.2874 - val_acc: 0.9002\n",
            "Epoch 12/12\n",
            "37500/37500 [==============================] - 4s 106us/step - loss: 0.2812 - acc: 0.9013 - val_loss: 0.2859 - val_acc: 0.9002\n"
          ],
          "name": "stdout"
        },
        {
          "output_type": "display_data",
          "data": {
            "image/png": "[encoded data removed]",
            "text/plain": [
              "<Figure size 432x288 with 1 Axes>"
            ]
          },
          "metadata": {
            "tags": []
          }
        }
      ]
    }
  ]
}