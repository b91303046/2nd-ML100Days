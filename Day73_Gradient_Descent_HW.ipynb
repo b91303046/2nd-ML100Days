{
  "nbformat": 4,
  "nbformat_minor": 0,
  "metadata": {
    "colab": {
      "name": "Day73_Gradient_Descent_HW.ipynb",
      "version": "0.3.2",
      "provenance": [],
      "include_colab_link": true
    },
    "language_info": {
      "codemirror_mode": {
        "name": "ipython",
        "version": 3
      },
      "file_extension": ".py",
      "mimetype": "text/x-python",
      "name": "python",
      "nbconvert_exporter": "python",
      "pygments_lexer": "ipython3",
      "version": "3.7.0"
    },
    "kernelspec": {
      "display_name": "Python 3",
      "language": "python",
      "name": "python3"
    }
  },
  "cells": [
    {
      "cell_type": "markdown",
      "metadata": {
        "id": "view-in-github",
        "colab_type": "text"
      },
      "source": [
        "<a href=\"https://colab.research.google.com/github/b91303046/2nd-ML100Days/blob/master/Day73_Gradient_Descent_HW.ipynb\" target=\"_parent\"><img src=\"https://colab.research.google.com/assets/colab-badge.svg\" alt=\"Open In Colab\"/></a>"
      ]
    },
    {
      "cell_type": "markdown",
      "metadata": {
        "id": "7o0ehLY5J8Uv",
        "colab_type": "text"
      },
      "source": [
        "# 作業重點\n",
        "\n",
        "使用function y=(x+5)² 來練習學習率( leanrning rate ) 調整所造成的影響"
      ]
    },
    {
      "cell_type": "markdown",
      "metadata": {
        "id": "LJbtYYCPJ8Uw",
        "colab_type": "text"
      },
      "source": [
        "# 作業目標:\n",
        "    請嘗試使用不同的組合驗證 learning rate 對所需 iteration 的影響\n",
        "    lr = [0.1, 0.0001]\n",
        "    主要驗證 Lr 對於grandient 收斂的速度\n",
        "    "
      ]
    },
    {
      "cell_type": "code",
      "metadata": {
        "id": "tw1Yc5B3J8Ux",
        "colab_type": "code",
        "colab": {}
      },
      "source": [
        "cur_x = 3 # The algorithm starts at x=3\n",
        "precision = 0.000001 #This tells us when to stop the algorithm\n",
        "max_iters = 10000 # maximum number of iterations\n",
        "df = lambda x: 2*(x+5) #Gradient of our function "
      ],
      "execution_count": 0,
      "outputs": []
    },
    {
      "cell_type": "code",
      "metadata": {
        "scrolled": false,
        "id": "yERiwkKpJ8U1",
        "colab_type": "code",
        "colab": {},
        "outputId": "886d45ef-20f3-4a8c-8da2-865b483a9b25"
      },
      "source": [
        "'''\n",
        "需要執行初始值設定, 下列三個\n",
        "# Learning rate\n",
        "#iteration counter\n",
        "#Step size  \n",
        "'''\n",
        "'''\n",
        "while previous_step_size > precision and iters < max_iters:\n",
        "\n",
        "  算法迭代更新\n",
        "\n",
        "print(\"the learning rate is\",lr, \"\\nIteration\",iters,\"\\nX value is\",cur_x) #Print iterations\n",
        "'''"
      ],
      "execution_count": 0,
      "outputs": [
        {
          "output_type": "execute_result",
          "data": {
            "text/plain": [
              "'\\nwhile previous_step_size > precision and iters < max_iters:\\n\\n  算法迭代更新\\n\\nprint(\"the learning rate is\",lr, \"\\nIteration\",iters,\"\\nX value is\",cur_x) #Print iterations\\n'"
            ]
          },
          "metadata": {
            "tags": []
          },
          "execution_count": 7
        }
      ]
    },
    {
      "cell_type": "code",
      "metadata": {
        "id": "SmBHjqj9J8U6",
        "colab_type": "code",
        "colab": {
          "base_uri": "https://localhost:8080/",
          "height": 323
        },
        "outputId": "22bddd02-4f95-41be-f72f-240f612f5234"
      },
      "source": [
        "lr = 0.1 # Learning rate\n",
        "iters = 0 #iteration counter\n",
        "previous_step_size = 1 #\n",
        "df = lambda x: 2*(x+5) #Gradient of our function \n",
        "iters_history = [iters]\n",
        "x_history = [cur_x]\n",
        "while previous_step_size > precision and iters < max_iters:\n",
        "    prev_x = cur_x #Store current x value in prev_x\n",
        "    cur_x = cur_x - lr * df(prev_x) #Gradient descent\n",
        "    previous_step_size = abs(cur_x - prev_x) # 取較大的值, Change in x\n",
        "    iters = iters+1 #iteration count\n",
        "    iters_history.append(iters)\n",
        "    x_history.append(cur_x)\n",
        "print(\"Totally iteations: \", iters)\n",
        "print(\"The local minimum occurs at\", cur_x)\n",
        "import matplotlib.pyplot as plt\n",
        "%matplotlib inline \n",
        "#適用於 Jupyter Notebook, 宣告直接在cell 內印出執行結果\n",
        "\n",
        "plt.plot(iters_history, x_history, 'o-', ms=3, lw=1.5, color='black')\n",
        "plt.xlabel(r'$iters$', fontsize=16)\n",
        "plt.ylabel(r'$x$', fontsize=16)\n",
        "plt.show()\n"
      ],
      "execution_count": 6,
      "outputs": [
        {
          "output_type": "stream",
          "text": [
            "Totally iteations:  57\n",
            "The local minimum occurs at -4.999996760011929\n"
          ],
          "name": "stdout"
        },
        {
          "output_type": "display_data",
          "data": {
            "image/png": "[encoded data removed]",
            "text/plain": [
              "<Figure size 432x288 with 1 Axes>"
            ]
          },
          "metadata": {
            "tags": []
          }
        }
      ]
    },
    {
      "cell_type": "code",
      "metadata": {
        "id": "zDolxryQKdR0",
        "colab_type": "code",
        "colab": {
          "base_uri": "https://localhost:8080/",
          "height": 323
        },
        "outputId": "31e52a9f-8e27-4c15-ff1d-d4305cb8daf7"
      },
      "source": [
        "cur_x = 3 # The algorithm starts at x=3\n",
        "precision = 0.000001 #This tells us when to stop the algorithm\n",
        "max_iters = 10000 # maximum number of iterations\n",
        "df = lambda x: 2*(x+5) #Gradient of our function \n",
        "lr = 0.0001 # Learning rate\n",
        "iters = 0 #iteration counter\n",
        "previous_step_size = 1 #\n",
        "df = lambda x: 2*(x+5) #Gradient of our function \n",
        "iters_history = [iters]\n",
        "x_history = [cur_x]\n",
        "while previous_step_size > precision and iters < max_iters:\n",
        "    prev_x = cur_x #Store current x value in prev_x\n",
        "    cur_x = cur_x - lr * df(prev_x) #Gradient descent\n",
        "    previous_step_size = abs(cur_x - prev_x) # 取較大的值, Change in x\n",
        "    iters = iters+1 #iteration count\n",
        "    iters_history.append(iters)\n",
        "    x_history.append(cur_x)\n",
        "print(\"Totally iteations: \", iters)\n",
        "print(\"The local minimum occurs at\", cur_x)\n",
        "import matplotlib.pyplot as plt\n",
        "%matplotlib inline \n",
        "#適用於 Jupyter Notebook, 宣告直接在cell 內印出執行結果\n",
        "\n",
        "plt.plot(iters_history, x_history, 'o-', ms=3, lw=1.5, color='black')\n",
        "plt.xlabel(r'$iters$', fontsize=16)\n",
        "plt.ylabel(r'$x$', fontsize=16)\n",
        "plt.show()"
      ],
      "execution_count": 7,
      "outputs": [
        {
          "output_type": "stream",
          "text": [
            "Totally iteations:  10000\n",
            "The local minimum occurs at -3.917534277778167\n"
          ],
          "name": "stdout"
        },
        {
          "output_type": "display_data",
          "data": {
            "image/png": "[encoded data removed]",
            "text/plain": [
              "<Figure size 432x288 with 1 Axes>"
            ]
          },
          "metadata": {
            "tags": []
          }
        }
      ]
    },
    {
      "cell_type": "code",
      "metadata": {
        "id": "rXEDKw1gKqmj",
        "colab_type": "code",
        "colab": {}
      },
      "source": [
        ""
      ],
      "execution_count": 0,
      "outputs": []
    }
  ]
}