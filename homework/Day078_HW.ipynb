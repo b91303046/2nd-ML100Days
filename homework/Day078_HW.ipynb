{
  "nbformat": 4,
  "nbformat_minor": 0,
  "metadata": {
    "colab": {
      "name": "Day078_HW.ipynb",
      "version": "0.3.2",
      "provenance": [],
      "include_colab_link": true
    },
    "language_info": {
      "codemirror_mode": {
        "name": "ipython",
        "version": 3
      },
      "file_extension": ".py",
      "mimetype": "text/x-python",
      "name": "python",
      "nbconvert_exporter": "python",
      "pygments_lexer": "ipython3",
      "version": "3.6.5"
    },
    "kernelspec": {
      "name": "python3",
      "display_name": "Python 3"
    },
    "accelerator": "GPU"
  },
  "cells": [
    {
      "cell_type": "markdown",
      "metadata": {
        "id": "view-in-github",
        "colab_type": "text"
      },
      "source": [
        "<a href=\"https://colab.research.google.com/github/b91303046/2nd-ML100Days/blob/master/homework/Day078_HW.ipynb\" target=\"_parent\"><img src=\"https://colab.research.google.com/assets/colab-badge.svg\" alt=\"Open In Colab\"/></a>"
      ]
    },
    {
      "cell_type": "markdown",
      "metadata": {
        "id": "uxbYjvGOX9T_",
        "colab_type": "text"
      },
      "source": [
        "## Work\n",
        "1. 請嘗試將 preproc_x 替換成以每筆資料的 min/max 進行標準化至 -1 ~ 1 間，再進行訓練\n",
        "2. 請嘗試將 mlp 疊更深 (e.g 5~10 層)，進行訓練後觀察 learning curve 的走勢\n",
        "3. (optional) 請改用 GPU 進行訓練 (如果你有 GPU 的話)，比較使用 CPU 與 GPU 的訓練速度"
      ]
    },
    {
      "cell_type": "code",
      "metadata": {
        "id": "fsQ4g9h-X9UB",
        "colab_type": "code",
        "colab": {}
      },
      "source": [
        "## \n",
        "\"\"\"\n",
        "Your code here (optional)\n",
        "確認硬體資源\n",
        "\"\"\"\n"
      ],
      "execution_count": 0,
      "outputs": []
    },
    {
      "cell_type": "code",
      "metadata": {
        "id": "FcectA83X9UG",
        "colab_type": "code",
        "colab": {
          "base_uri": "https://localhost:8080/",
          "height": 34
        },
        "outputId": "ef9e3e2b-f9bf-4e06-f0b1-12f439510eab"
      },
      "source": [
        "import os\n",
        "import keras\n",
        "\n",
        "# 請嘗試設定 GPU：os.environ\n"
      ],
      "execution_count": 1,
      "outputs": [
        {
          "output_type": "stream",
          "text": [
            "Using TensorFlow backend.\n"
          ],
          "name": "stderr"
        }
      ]
    },
    {
      "cell_type": "code",
      "metadata": {
        "id": "sYkM3UhxX9UN",
        "colab_type": "code",
        "colab": {}
      },
      "source": [
        "train, test = keras.datasets.cifar10.load_data()"
      ],
      "execution_count": 0,
      "outputs": []
    },
    {
      "cell_type": "code",
      "metadata": {
        "id": "gQtaZloxYajn",
        "colab_type": "code",
        "colab": {}
      },
      "source": [
        ""
      ],
      "execution_count": 0,
      "outputs": []
    },
    {
      "cell_type": "code",
      "metadata": {
        "id": "VUONGPxVX9UR",
        "colab_type": "code",
        "colab": {}
      },
      "source": [
        "import numpy as np\n",
        "## 資料前處理\n",
        "\"\"\"\n",
        "Your code here\n",
        "\"\"\"\n",
        "def preproc_x(x,flatten=True):\n",
        "    x=(x-np.min(x))/(np.max(x)-np.min(x))\n",
        "    if flatten:\n",
        "      x=x.reshape(len(x),-1)\n",
        "    return x\n",
        "\n",
        "def preproc_y(y,num_classes=10):\n",
        "    if y.shape[-1]==1:\n",
        "      y=keras.utils.to_categorical(y,num_classes)\n",
        "    return y"
      ],
      "execution_count": 0,
      "outputs": []
    },
    {
      "cell_type": "code",
      "metadata": {
        "id": "KK49IkFFX9UU",
        "colab_type": "code",
        "colab": {}
      },
      "source": [
        "x_train, y_train = train\n",
        "x_test, y_test = test\n",
        "\n",
        "# Preproc the inputs\n",
        "x_train = preproc_x(x_train)\n",
        "x_test = preproc_x(x_test)\n",
        "\n",
        "# Preprc the outputs\n",
        "y_train = preproc_y(y_train)\n",
        "y_test = preproc_y(y_test)"
      ],
      "execution_count": 0,
      "outputs": []
    },
    {
      "cell_type": "code",
      "metadata": {
        "id": "t_5cd59larcU",
        "colab_type": "code",
        "colab": {}
      },
      "source": [
        ""
      ],
      "execution_count": 0,
      "outputs": []
    },
    {
      "cell_type": "code",
      "metadata": {
        "id": "23hmpD_lX9UY",
        "colab_type": "code",
        "colab": {
          "base_uri": "https://localhost:8080/",
          "height": 408
        },
        "outputId": "a32bbfcb-8759-4ae4-a01f-0422837888a8"
      },
      "source": [
        "\"\"\"Code Here\n",
        "建立你的神經網路\n",
        "\"\"\"\n",
        "def build_mlp(input_shape, output_units=10, num_neurons=[512, 256, 128,128,128,128]):\n",
        "    input_layer = keras.layers.Input(input_shape)\n",
        "    \n",
        "    for i, n_units in enumerate(num_neurons):\n",
        "        if i == 0:\n",
        "            x = keras.layers.Dense(units=n_units, activation=\"relu\", name=\"hidden_layer\"+str(i+1))(input_layer)\n",
        "        else:\n",
        "            x = keras.layers.Dense(units=n_units, activation=\"relu\", name=\"hidden_layer\"+str(i+1))(x)\n",
        "    \n",
        "    out = keras.layers.Dense(units=output_units, activation=\"softmax\", name=\"output\")(x)\n",
        "    \n",
        "    model = keras.models.Model(inputs=[input_layer], outputs=[out])\n",
        "    return model\n",
        "\n",
        "model = build_mlp(input_shape=x_train.shape[1:])\n",
        "model.summary()"
      ],
      "execution_count": 20,
      "outputs": [
        {
          "output_type": "stream",
          "text": [
            "_________________________________________________________________\n",
            "Layer (type)                 Output Shape              Param #   \n",
            "=================================================================\n",
            "input_2 (InputLayer)         (None, 3072)              0         \n",
            "_________________________________________________________________\n",
            "hidden_layer1 (Dense)        (None, 512)               1573376   \n",
            "_________________________________________________________________\n",
            "hidden_layer2 (Dense)        (None, 256)               131328    \n",
            "_________________________________________________________________\n",
            "hidden_layer3 (Dense)        (None, 128)               32896     \n",
            "_________________________________________________________________\n",
            "hidden_layer4 (Dense)        (None, 128)               16512     \n",
            "_________________________________________________________________\n",
            "hidden_layer5 (Dense)        (None, 128)               16512     \n",
            "_________________________________________________________________\n",
            "hidden_layer6 (Dense)        (None, 128)               16512     \n",
            "_________________________________________________________________\n",
            "output (Dense)               (None, 10)                1290      \n",
            "=================================================================\n",
            "Total params: 1,788,426\n",
            "Trainable params: 1,788,426\n",
            "Non-trainable params: 0\n",
            "_________________________________________________________________\n"
          ],
          "name": "stdout"
        }
      ]
    },
    {
      "cell_type": "code",
      "metadata": {
        "id": "QA96ufKtX9Ub",
        "colab_type": "code",
        "colab": {}
      },
      "source": [
        "## 超參數設定\n",
        "LEARNING_RATE = 0.001\n",
        "EPOCHS = 100\n",
        "BATCH_SIZE = 256"
      ],
      "execution_count": 0,
      "outputs": []
    },
    {
      "cell_type": "code",
      "metadata": {
        "id": "DEjYY6lNX9Uf",
        "colab_type": "code",
        "colab": {}
      },
      "source": [
        "optimizer = keras.optimizers.Adam(lr=LEARNING_RATE)\n",
        "model.compile(loss=\"categorical_crossentropy\", metrics=[\"accuracy\"], optimizer=optimizer)"
      ],
      "execution_count": 0,
      "outputs": []
    },
    {
      "cell_type": "code",
      "metadata": {
        "id": "UXAMeduKX9Uk",
        "colab_type": "code",
        "colab": {
          "base_uri": "https://localhost:8080/",
          "height": 1000
        },
        "outputId": "157a42d6-d995-478f-d4bb-53a400c1a259"
      },
      "source": [
        "model.fit(x_train, y_train, \n",
        "          epochs=EPOCHS, \n",
        "          batch_size=BATCH_SIZE, \n",
        "          validation_data=(x_test, y_test), \n",
        "          shuffle=True)"
      ],
      "execution_count": 23,
      "outputs": [
        {
          "output_type": "stream",
          "text": [
            "W0715 06:59:00.452562 139972870961024 deprecation.py:323] From /usr/local/lib/python3.6/dist-packages/tensorflow/python/ops/math_grad.py:1250: add_dispatch_support.<locals>.wrapper (from tensorflow.python.ops.array_ops) is deprecated and will be removed in a future version.\n",
            "Instructions for updating:\n",
            "Use tf.where in 2.0, which has the same broadcast rule as np.where\n",
            "W0715 06:59:00.607704 139972870961024 deprecation_wrapper.py:119] From /usr/local/lib/python3.6/dist-packages/keras/backend/tensorflow_backend.py:986: The name tf.assign_add is deprecated. Please use tf.compat.v1.assign_add instead.\n",
            "\n"
          ],
          "name": "stderr"
        },
        {
          "output_type": "stream",
          "text": [
            "Train on 50000 samples, validate on 10000 samples\n",
            "Epoch 1/100\n",
            "50000/50000 [==============================] - 9s 178us/step - loss: 1.9514 - acc: 0.2839 - val_loss: 1.7928 - val_acc: 0.3569\n",
            "Epoch 2/100\n",
            "50000/50000 [==============================] - 4s 74us/step - loss: 1.7384 - acc: 0.3714 - val_loss: 1.6782 - val_acc: 0.3908\n",
            "Epoch 3/100\n",
            "50000/50000 [==============================] - 4s 75us/step - loss: 1.6544 - acc: 0.4043 - val_loss: 1.6084 - val_acc: 0.4134\n",
            "Epoch 4/100\n",
            "50000/50000 [==============================] - 4s 83us/step - loss: 1.5817 - acc: 0.4301 - val_loss: 1.5890 - val_acc: 0.4260\n",
            "Epoch 5/100\n",
            "50000/50000 [==============================] - 4s 80us/step - loss: 1.5401 - acc: 0.4466 - val_loss: 1.5519 - val_acc: 0.4413\n",
            "Epoch 6/100\n",
            "50000/50000 [==============================] - 4s 78us/step - loss: 1.5071 - acc: 0.4607 - val_loss: 1.5601 - val_acc: 0.4487\n",
            "Epoch 7/100\n",
            "50000/50000 [==============================] - 4s 79us/step - loss: 1.4600 - acc: 0.4765 - val_loss: 1.4542 - val_acc: 0.4830\n",
            "Epoch 8/100\n",
            "50000/50000 [==============================] - 4s 78us/step - loss: 1.4307 - acc: 0.4875 - val_loss: 1.4638 - val_acc: 0.4765\n",
            "Epoch 9/100\n",
            "50000/50000 [==============================] - 4s 77us/step - loss: 1.4062 - acc: 0.4969 - val_loss: 1.4549 - val_acc: 0.4827\n",
            "Epoch 10/100\n",
            "50000/50000 [==============================] - 4s 76us/step - loss: 1.3760 - acc: 0.5061 - val_loss: 1.4223 - val_acc: 0.4935\n",
            "Epoch 11/100\n",
            "50000/50000 [==============================] - 4s 71us/step - loss: 1.3557 - acc: 0.5136 - val_loss: 1.4311 - val_acc: 0.4920\n",
            "Epoch 12/100\n",
            "50000/50000 [==============================] - 4s 81us/step - loss: 1.3343 - acc: 0.5215 - val_loss: 1.4589 - val_acc: 0.4843\n",
            "Epoch 13/100\n",
            "50000/50000 [==============================] - 4s 78us/step - loss: 1.3121 - acc: 0.5289 - val_loss: 1.4233 - val_acc: 0.4952\n",
            "Epoch 14/100\n",
            "50000/50000 [==============================] - 4s 79us/step - loss: 1.3053 - acc: 0.5310 - val_loss: 1.4079 - val_acc: 0.5022\n",
            "Epoch 15/100\n",
            "50000/50000 [==============================] - 4s 83us/step - loss: 1.2754 - acc: 0.5427 - val_loss: 1.4000 - val_acc: 0.5061\n",
            "Epoch 16/100\n",
            "50000/50000 [==============================] - 4s 78us/step - loss: 1.2516 - acc: 0.5501 - val_loss: 1.4148 - val_acc: 0.5040\n",
            "Epoch 17/100\n",
            "50000/50000 [==============================] - 4s 78us/step - loss: 1.2343 - acc: 0.5593 - val_loss: 1.3947 - val_acc: 0.5077\n",
            "Epoch 18/100\n",
            "50000/50000 [==============================] - 4s 76us/step - loss: 1.2168 - acc: 0.5648 - val_loss: 1.4438 - val_acc: 0.4951\n",
            "Epoch 19/100\n",
            "50000/50000 [==============================] - 4s 79us/step - loss: 1.1903 - acc: 0.5739 - val_loss: 1.4106 - val_acc: 0.5024\n",
            "Epoch 20/100\n",
            "50000/50000 [==============================] - 4s 82us/step - loss: 1.1702 - acc: 0.5777 - val_loss: 1.4191 - val_acc: 0.5068\n",
            "Epoch 21/100\n",
            "50000/50000 [==============================] - 4s 74us/step - loss: 1.1510 - acc: 0.5873 - val_loss: 1.3846 - val_acc: 0.5155\n",
            "Epoch 22/100\n",
            "50000/50000 [==============================] - 4s 75us/step - loss: 1.1353 - acc: 0.5925 - val_loss: 1.4423 - val_acc: 0.5101\n",
            "Epoch 23/100\n",
            "50000/50000 [==============================] - 4s 78us/step - loss: 1.1175 - acc: 0.5972 - val_loss: 1.4584 - val_acc: 0.4979\n",
            "Epoch 24/100\n",
            "50000/50000 [==============================] - 4s 83us/step - loss: 1.0967 - acc: 0.6045 - val_loss: 1.4438 - val_acc: 0.5027\n",
            "Epoch 25/100\n",
            "50000/50000 [==============================] - 4s 81us/step - loss: 1.0834 - acc: 0.6092 - val_loss: 1.4095 - val_acc: 0.5174\n",
            "Epoch 26/100\n",
            "50000/50000 [==============================] - 4s 82us/step - loss: 1.0552 - acc: 0.6196 - val_loss: 1.4118 - val_acc: 0.5129\n",
            "Epoch 27/100\n",
            "50000/50000 [==============================] - 4s 81us/step - loss: 1.0381 - acc: 0.6259 - val_loss: 1.4481 - val_acc: 0.5090\n",
            "Epoch 28/100\n",
            "50000/50000 [==============================] - 4s 83us/step - loss: 1.0240 - acc: 0.6319 - val_loss: 1.4851 - val_acc: 0.5114\n",
            "Epoch 29/100\n",
            "50000/50000 [==============================] - 4s 80us/step - loss: 1.0003 - acc: 0.6401 - val_loss: 1.4707 - val_acc: 0.5130\n",
            "Epoch 30/100\n",
            "50000/50000 [==============================] - 4s 83us/step - loss: 0.9878 - acc: 0.6446 - val_loss: 1.4383 - val_acc: 0.5223\n",
            "Epoch 31/100\n",
            "50000/50000 [==============================] - 4s 79us/step - loss: 0.9640 - acc: 0.6507 - val_loss: 1.5039 - val_acc: 0.5067\n",
            "Epoch 32/100\n",
            "50000/50000 [==============================] - 4s 71us/step - loss: 0.9499 - acc: 0.6571 - val_loss: 1.4757 - val_acc: 0.5231\n",
            "Epoch 33/100\n",
            "50000/50000 [==============================] - 4s 80us/step - loss: 0.9267 - acc: 0.6650 - val_loss: 1.5059 - val_acc: 0.5178\n",
            "Epoch 34/100\n",
            "50000/50000 [==============================] - 4s 82us/step - loss: 0.9012 - acc: 0.6750 - val_loss: 1.5118 - val_acc: 0.5104\n",
            "Epoch 35/100\n",
            "50000/50000 [==============================] - 4s 76us/step - loss: 0.9027 - acc: 0.6731 - val_loss: 1.5401 - val_acc: 0.5137\n",
            "Epoch 36/100\n",
            "50000/50000 [==============================] - 4s 76us/step - loss: 0.8835 - acc: 0.6797 - val_loss: 1.5561 - val_acc: 0.5110\n",
            "Epoch 37/100\n",
            "50000/50000 [==============================] - 4s 80us/step - loss: 0.8654 - acc: 0.6874 - val_loss: 1.5869 - val_acc: 0.5165\n",
            "Epoch 38/100\n",
            "50000/50000 [==============================] - 4s 74us/step - loss: 0.8475 - acc: 0.6919 - val_loss: 1.6167 - val_acc: 0.5170\n",
            "Epoch 39/100\n",
            "50000/50000 [==============================] - 4s 83us/step - loss: 0.8336 - acc: 0.6984 - val_loss: 1.6092 - val_acc: 0.5105\n",
            "Epoch 40/100\n",
            "50000/50000 [==============================] - 4s 86us/step - loss: 0.8077 - acc: 0.7064 - val_loss: 1.6093 - val_acc: 0.5147\n",
            "Epoch 41/100\n",
            "50000/50000 [==============================] - 4s 77us/step - loss: 0.7900 - acc: 0.7148 - val_loss: 1.7032 - val_acc: 0.5001\n",
            "Epoch 42/100\n",
            "50000/50000 [==============================] - 4s 86us/step - loss: 0.7793 - acc: 0.7186 - val_loss: 1.6315 - val_acc: 0.5147\n",
            "Epoch 43/100\n",
            "50000/50000 [==============================] - 4s 79us/step - loss: 0.7797 - acc: 0.7159 - val_loss: 1.6761 - val_acc: 0.5048\n",
            "Epoch 44/100\n",
            "50000/50000 [==============================] - 4s 84us/step - loss: 0.7538 - acc: 0.7271 - val_loss: 1.7154 - val_acc: 0.5063\n",
            "Epoch 45/100\n",
            "50000/50000 [==============================] - 4s 82us/step - loss: 0.7439 - acc: 0.7287 - val_loss: 1.7565 - val_acc: 0.5118\n",
            "Epoch 46/100\n",
            "50000/50000 [==============================] - 4s 79us/step - loss: 0.7347 - acc: 0.7341 - val_loss: 1.7489 - val_acc: 0.5087\n",
            "Epoch 47/100\n",
            "50000/50000 [==============================] - 4s 84us/step - loss: 0.7092 - acc: 0.7449 - val_loss: 1.7621 - val_acc: 0.5117\n",
            "Epoch 48/100\n",
            "50000/50000 [==============================] - 4s 78us/step - loss: 0.6942 - acc: 0.7494 - val_loss: 1.8614 - val_acc: 0.5067\n",
            "Epoch 49/100\n",
            "50000/50000 [==============================] - 4s 80us/step - loss: 0.6778 - acc: 0.7560 - val_loss: 1.8473 - val_acc: 0.5050\n",
            "Epoch 50/100\n",
            "50000/50000 [==============================] - 4s 72us/step - loss: 0.6677 - acc: 0.7587 - val_loss: 1.8494 - val_acc: 0.5048\n",
            "Epoch 51/100\n",
            "50000/50000 [==============================] - 4s 81us/step - loss: 0.6676 - acc: 0.7572 - val_loss: 1.9360 - val_acc: 0.4998\n",
            "Epoch 52/100\n",
            "50000/50000 [==============================] - 4s 76us/step - loss: 0.6441 - acc: 0.7663 - val_loss: 1.9016 - val_acc: 0.5014\n",
            "Epoch 53/100\n",
            "50000/50000 [==============================] - 4s 77us/step - loss: 0.6374 - acc: 0.7691 - val_loss: 1.8974 - val_acc: 0.5062\n",
            "Epoch 54/100\n",
            "50000/50000 [==============================] - 4s 78us/step - loss: 0.6364 - acc: 0.7682 - val_loss: 1.9728 - val_acc: 0.4970\n",
            "Epoch 55/100\n",
            "50000/50000 [==============================] - 4s 79us/step - loss: 0.6300 - acc: 0.7715 - val_loss: 2.0075 - val_acc: 0.5091\n",
            "Epoch 56/100\n",
            "50000/50000 [==============================] - 4s 85us/step - loss: 0.5984 - acc: 0.7836 - val_loss: 2.0476 - val_acc: 0.4960\n",
            "Epoch 57/100\n",
            "50000/50000 [==============================] - 4s 81us/step - loss: 0.6060 - acc: 0.7797 - val_loss: 2.0387 - val_acc: 0.4914\n",
            "Epoch 58/100\n",
            "50000/50000 [==============================] - 4s 81us/step - loss: 0.5788 - acc: 0.7919 - val_loss: 2.0161 - val_acc: 0.5059\n",
            "Epoch 59/100\n",
            "50000/50000 [==============================] - 4s 76us/step - loss: 0.5768 - acc: 0.7909 - val_loss: 2.1753 - val_acc: 0.4966\n",
            "Epoch 60/100\n",
            "50000/50000 [==============================] - 4s 83us/step - loss: 0.5674 - acc: 0.7940 - val_loss: 2.1075 - val_acc: 0.5060\n",
            "Epoch 61/100\n",
            "50000/50000 [==============================] - 4s 82us/step - loss: 0.5473 - acc: 0.7997 - val_loss: 2.1492 - val_acc: 0.4963\n",
            "Epoch 62/100\n",
            "50000/50000 [==============================] - 4s 77us/step - loss: 0.5586 - acc: 0.7966 - val_loss: 2.1971 - val_acc: 0.4930\n",
            "Epoch 63/100\n",
            "50000/50000 [==============================] - 4s 81us/step - loss: 0.5444 - acc: 0.8033 - val_loss: 2.2273 - val_acc: 0.4956\n",
            "Epoch 64/100\n",
            "50000/50000 [==============================] - 4s 78us/step - loss: 0.5462 - acc: 0.8012 - val_loss: 2.2128 - val_acc: 0.4994\n",
            "Epoch 65/100\n",
            "50000/50000 [==============================] - 4s 81us/step - loss: 0.5154 - acc: 0.8130 - val_loss: 2.2912 - val_acc: 0.5016\n",
            "Epoch 66/100\n",
            "50000/50000 [==============================] - 4s 83us/step - loss: 0.5090 - acc: 0.8166 - val_loss: 2.3606 - val_acc: 0.4893\n",
            "Epoch 67/100\n",
            "50000/50000 [==============================] - 4s 80us/step - loss: 0.5077 - acc: 0.8174 - val_loss: 2.2564 - val_acc: 0.4972\n",
            "Epoch 68/100\n",
            "50000/50000 [==============================] - 4s 79us/step - loss: 0.4968 - acc: 0.8192 - val_loss: 2.3640 - val_acc: 0.4956\n",
            "Epoch 69/100\n",
            "50000/50000 [==============================] - 4s 71us/step - loss: 0.4850 - acc: 0.8234 - val_loss: 2.3459 - val_acc: 0.5008\n",
            "Epoch 70/100\n",
            "50000/50000 [==============================] - 4s 74us/step - loss: 0.5032 - acc: 0.8169 - val_loss: 2.3603 - val_acc: 0.4871\n",
            "Epoch 71/100\n",
            "50000/50000 [==============================] - 4s 79us/step - loss: 0.4636 - acc: 0.8317 - val_loss: 2.4061 - val_acc: 0.4933\n",
            "Epoch 72/100\n",
            "50000/50000 [==============================] - 4s 77us/step - loss: 0.4788 - acc: 0.8255 - val_loss: 2.3523 - val_acc: 0.5021\n",
            "Epoch 73/100\n",
            "50000/50000 [==============================] - 4s 78us/step - loss: 0.4529 - acc: 0.8350 - val_loss: 2.4346 - val_acc: 0.4856\n",
            "Epoch 74/100\n",
            "50000/50000 [==============================] - 4s 78us/step - loss: 0.4654 - acc: 0.8300 - val_loss: 2.5073 - val_acc: 0.4966\n",
            "Epoch 75/100\n",
            "50000/50000 [==============================] - 4s 83us/step - loss: 0.4557 - acc: 0.8357 - val_loss: 2.4107 - val_acc: 0.4956\n",
            "Epoch 76/100\n",
            "50000/50000 [==============================] - 4s 79us/step - loss: 0.4624 - acc: 0.8304 - val_loss: 2.4843 - val_acc: 0.4955\n",
            "Epoch 77/100\n",
            "50000/50000 [==============================] - 4s 81us/step - loss: 0.4582 - acc: 0.8339 - val_loss: 2.5643 - val_acc: 0.4912\n",
            "Epoch 78/100\n",
            "50000/50000 [==============================] - 4s 82us/step - loss: 0.4444 - acc: 0.8390 - val_loss: 2.5603 - val_acc: 0.4913\n",
            "Epoch 79/100\n",
            "50000/50000 [==============================] - 4s 77us/step - loss: 0.4233 - acc: 0.8476 - val_loss: 2.5792 - val_acc: 0.4933\n",
            "Epoch 80/100\n",
            "50000/50000 [==============================] - 4s 80us/step - loss: 0.4436 - acc: 0.8393 - val_loss: 2.5272 - val_acc: 0.4937\n",
            "Epoch 81/100\n",
            "50000/50000 [==============================] - 4s 79us/step - loss: 0.4149 - acc: 0.8501 - val_loss: 2.6594 - val_acc: 0.4916\n",
            "Epoch 82/100\n",
            "50000/50000 [==============================] - 4s 80us/step - loss: 0.4116 - acc: 0.8498 - val_loss: 2.6764 - val_acc: 0.4873\n",
            "Epoch 83/100\n",
            "50000/50000 [==============================] - 4s 79us/step - loss: 0.4205 - acc: 0.8480 - val_loss: 2.7303 - val_acc: 0.4961\n",
            "Epoch 84/100\n",
            "50000/50000 [==============================] - 4s 84us/step - loss: 0.4130 - acc: 0.8507 - val_loss: 2.6530 - val_acc: 0.4939\n",
            "Epoch 85/100\n",
            "50000/50000 [==============================] - 4s 84us/step - loss: 0.4043 - acc: 0.8536 - val_loss: 2.7223 - val_acc: 0.4936\n",
            "Epoch 86/100\n",
            "50000/50000 [==============================] - 4s 80us/step - loss: 0.3997 - acc: 0.8532 - val_loss: 2.6943 - val_acc: 0.4956\n",
            "Epoch 87/100\n",
            "50000/50000 [==============================] - 4s 80us/step - loss: 0.4006 - acc: 0.8540 - val_loss: 2.8353 - val_acc: 0.4947\n",
            "Epoch 88/100\n",
            "50000/50000 [==============================] - 4s 85us/step - loss: 0.3985 - acc: 0.8558 - val_loss: 2.7658 - val_acc: 0.4960\n",
            "Epoch 89/100\n",
            "50000/50000 [==============================] - 4s 78us/step - loss: 0.3701 - acc: 0.8652 - val_loss: 2.7492 - val_acc: 0.4865\n",
            "Epoch 90/100\n",
            "50000/50000 [==============================] - 4s 75us/step - loss: 0.3608 - acc: 0.8692 - val_loss: 2.8660 - val_acc: 0.4914\n",
            "Epoch 91/100\n",
            "50000/50000 [==============================] - 4s 77us/step - loss: 0.3864 - acc: 0.8610 - val_loss: 2.7771 - val_acc: 0.4917\n",
            "Epoch 92/100\n",
            "50000/50000 [==============================] - 4s 71us/step - loss: 0.3721 - acc: 0.8639 - val_loss: 2.8356 - val_acc: 0.4937\n",
            "Epoch 93/100\n",
            "50000/50000 [==============================] - 4s 75us/step - loss: 0.3696 - acc: 0.8666 - val_loss: 2.8069 - val_acc: 0.4926\n",
            "Epoch 94/100\n",
            "50000/50000 [==============================] - 4s 81us/step - loss: 0.3842 - acc: 0.8615 - val_loss: 2.7407 - val_acc: 0.4891\n",
            "Epoch 95/100\n",
            "50000/50000 [==============================] - 4s 77us/step - loss: 0.3521 - acc: 0.8731 - val_loss: 2.8978 - val_acc: 0.4964\n",
            "Epoch 96/100\n",
            "50000/50000 [==============================] - 4s 77us/step - loss: 0.3348 - acc: 0.8780 - val_loss: 3.0102 - val_acc: 0.4894\n",
            "Epoch 97/100\n",
            "50000/50000 [==============================] - 4s 71us/step - loss: 0.3428 - acc: 0.8790 - val_loss: 2.9495 - val_acc: 0.4874\n",
            "Epoch 98/100\n",
            "50000/50000 [==============================] - 4s 81us/step - loss: 0.3604 - acc: 0.8703 - val_loss: 2.9707 - val_acc: 0.4906\n",
            "Epoch 99/100\n",
            "50000/50000 [==============================] - 4s 80us/step - loss: 0.3664 - acc: 0.8689 - val_loss: 2.9449 - val_acc: 0.4847\n",
            "Epoch 100/100\n",
            "50000/50000 [==============================] - 4s 79us/step - loss: 0.3676 - acc: 0.8683 - val_loss: 2.9266 - val_acc: 0.4939\n"
          ],
          "name": "stdout"
        },
        {
          "output_type": "execute_result",
          "data": {
            "text/plain": [
              "<keras.callbacks.History at 0x7f4dade606a0>"
            ]
          },
          "metadata": {
            "tags": []
          },
          "execution_count": 23
        }
      ]
    },
    {
      "cell_type": "code",
      "metadata": {
        "id": "Trf_olzbX9Uq",
        "colab_type": "code",
        "colab": {
          "base_uri": "https://localhost:8080/",
          "height": 545
        },
        "outputId": "5b153dad-1824-46af-9524-17b9d3be064e"
      },
      "source": [
        "import matplotlib.pyplot as plt\n",
        "\n",
        "\n",
        "train_loss = model.history.history[\"loss\"]\n",
        "valid_loss = model.history.history[\"val_loss\"]\n",
        "\n",
        "train_acc = model.history.history[\"acc\"]\n",
        "valid_acc = model.history.history[\"val_acc\"]\n",
        "\n",
        "plt.plot(range(len(train_loss)), train_loss, label=\"train loss\")\n",
        "plt.plot(range(len(valid_loss)), valid_loss, label=\"valid loss\")\n",
        "plt.legend()\n",
        "plt.title(\"Loss\")\n",
        "plt.show()\n",
        "\n",
        "plt.plot(range(len(train_acc)), train_acc, label=\"train accuracy\")\n",
        "plt.plot(range(len(valid_acc)), valid_acc, label=\"valid accuracy\")\n",
        "plt.legend()\n",
        "plt.title(\"Accuracy\")\n",
        "plt.show()"
      ],
      "execution_count": 24,
      "outputs": [
        {
          "output_type": "display_data",
          "data": {
            "image/png": "[encoded data removed]",
            "text/plain": [
              "<Figure size 432x288 with 1 Axes>"
            ]
          },
          "metadata": {
            "tags": []
          }
        },
        {
          "output_type": "display_data",
          "data": {
            "image/png": "[encoded data removed]",
            "text/plain": [
              "<Figure size 432x288 with 1 Axes>"
            ]
          },
          "metadata": {
            "tags": []
          }
        }
      ]
    }
  ]
}