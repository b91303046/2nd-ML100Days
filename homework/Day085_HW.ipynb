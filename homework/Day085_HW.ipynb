{
  "nbformat": 4,
  "nbformat_minor": 0,
  "metadata": {
    "kernelspec": {
      "name": "python3",
      "display_name": "Python 3"
    },
    "language_info": {
      "codemirror_mode": {
        "name": "ipython",
        "version": 3
      },
      "file_extension": ".py",
      "mimetype": "text/x-python",
      "name": "python",
      "nbconvert_exporter": "python",
      "pygments_lexer": "ipython3",
      "version": "3.6.5"
    },
    "colab": {
      "name": "Day085_HW.ipynb",
      "version": "0.3.2",
      "provenance": [],
      "include_colab_link": true
    },
    "accelerator": "GPU"
  },
  "cells": [
    {
      "cell_type": "markdown",
      "metadata": {
        "id": "view-in-github",
        "colab_type": "text"
      },
      "source": [
        "<a href=\"https://colab.research.google.com/github/b91303046/2nd-ML100Days/blob/master/homework/Day085_HW.ipynb\" target=\"_parent\"><img src=\"https://colab.research.google.com/assets/colab-badge.svg\" alt=\"Open In Colab\"/></a>"
      ]
    },
    {
      "cell_type": "markdown",
      "metadata": {
        "id": "Koc2V78dYLky",
        "colab_type": "text"
      },
      "source": [
        "## Work\n",
        "1. 試改變 monitor \"Validation Accuracy\" 並比較結果\n",
        "2. 調整 earlystop 的等待次數至 10, 25 並比較結果"
      ]
    },
    {
      "cell_type": "code",
      "metadata": {
        "id": "R8dLcwoIYLk1",
        "colab_type": "code",
        "colab": {
          "base_uri": "https://localhost:8080/",
          "height": 34
        },
        "outputId": "b18d8ccf-e68d-4d08-be8a-04a747b46e64"
      },
      "source": [
        "import os\n",
        "import keras\n",
        "import matplotlib.pyplot as plt\n",
        "%matplotlib inline\n",
        "\n",
        "\n",
        "# Disable GPU\n",
        "os.environ[\"CUDA_VISIBLE_DEVICES\"] = \"\""
      ],
      "execution_count": 1,
      "outputs": [
        {
          "output_type": "stream",
          "text": [
            "Using TensorFlow backend.\n"
          ],
          "name": "stderr"
        }
      ]
    },
    {
      "cell_type": "code",
      "metadata": {
        "id": "cMxNAF0wYLk8",
        "colab_type": "code",
        "colab": {
          "base_uri": "https://localhost:8080/",
          "height": 51
        },
        "outputId": "6788686a-fd57-4522-fca5-c0ad12d650b0"
      },
      "source": [
        "train, test = keras.datasets.cifar10.load_data()"
      ],
      "execution_count": 2,
      "outputs": [
        {
          "output_type": "stream",
          "text": [
            "Downloading data from https://www.cs.toronto.edu/~kriz/cifar-10-python.tar.gz\n",
            "170500096/170498071 [==============================] - 2s 0us/step\n"
          ],
          "name": "stdout"
        }
      ]
    },
    {
      "cell_type": "code",
      "metadata": {
        "id": "hbaumqPzYLlB",
        "colab_type": "code",
        "colab": {}
      },
      "source": [
        "## 資料前處理\n",
        "def preproc_x(x, flatten=True):\n",
        "    x = x / 255.\n",
        "    if flatten:\n",
        "        x = x.reshape((len(x), -1))\n",
        "    return x\n",
        "\n",
        "def preproc_y(y, num_classes=10):\n",
        "    if y.shape[-1] == 1:\n",
        "        y = keras.utils.to_categorical(y, num_classes)\n",
        "    return y    "
      ],
      "execution_count": 0,
      "outputs": []
    },
    {
      "cell_type": "code",
      "metadata": {
        "id": "sE8Ubf4MYLlG",
        "colab_type": "code",
        "colab": {}
      },
      "source": [
        "x_train, y_train = train\n",
        "x_test, y_test = test\n",
        "\n",
        "# Preproc the inputs\n",
        "x_train = preproc_x(x_train)\n",
        "x_test = preproc_x(x_test)\n",
        "\n",
        "# Preprc the outputs\n",
        "y_train = preproc_y(y_train)\n",
        "y_test = preproc_y(y_test)"
      ],
      "execution_count": 0,
      "outputs": []
    },
    {
      "cell_type": "code",
      "metadata": {
        "id": "VWNE8IkHYLlL",
        "colab_type": "code",
        "colab": {}
      },
      "source": [
        "from keras.layers import BatchNormalization\n",
        "def build_mlp(input_shape, output_units=10, num_neurons=[512, 256, 128]):\n",
        "    input_layer = keras.layers.Input(input_shape)\n",
        "    \n",
        "    for i, n_units in enumerate(num_neurons):\n",
        "        if i == 0:\n",
        "            x = keras.layers.Dense(units=n_units, \n",
        "                                   activation=\"relu\", \n",
        "                                   name=\"hidden_layer\"+str(i+1))(input_layer)\n",
        "            x = BatchNormalization()(x)\n",
        "        else:\n",
        "            x = keras.layers.Dense(units=n_units, \n",
        "                                   activation=\"relu\", \n",
        "                                   name=\"hidden_layer\"+str(i+1))(x)\n",
        "            x = BatchNormalization()(x)\n",
        "    \n",
        "    out = keras.layers.Dense(units=output_units, activation=\"softmax\", name=\"output\")(x)\n",
        "    \n",
        "    model = keras.models.Model(inputs=[input_layer], outputs=[out])\n",
        "    return model"
      ],
      "execution_count": 0,
      "outputs": []
    },
    {
      "cell_type": "code",
      "metadata": {
        "id": "6MOBD_bSYLlQ",
        "colab_type": "code",
        "colab": {}
      },
      "source": [
        "\"\"\"Code Here\n",
        "設定超參數\n",
        "\"\"\"\n",
        "LEARNING_RATE = 1e-3\n",
        "EPOCHS = 50\n",
        "BATCH_SIZE = 1024\n",
        "MOMENTUM = 0.95"
      ],
      "execution_count": 0,
      "outputs": []
    },
    {
      "cell_type": "code",
      "metadata": {
        "id": "FtfpBwf0YLlU",
        "colab_type": "code",
        "colab": {
          "base_uri": "https://localhost:8080/",
          "height": 1000
        },
        "outputId": "29573832-def9-4d3d-9df2-411514def8fe"
      },
      "source": [
        "# 載入 Callbacks\n",
        "\"\"\"Code Here\n",
        "設定 callbacks: Earlystop\n",
        "\"\"\"\n",
        "from keras.callbacks import EarlyStopping\n",
        "\n",
        "earlystop = EarlyStopping(monitor=\"val_acc\", \n",
        "                          patience=5, \n",
        "                          verbose=1,\n",
        "                          mode='max'\n",
        "                          )\n",
        "\n",
        "\n",
        "results = {}\n",
        "\"\"\"Code Here\n",
        "撰寫你的訓練流程並將結果用 dictionary 紀錄\n",
        "\"\"\"\n",
        "model = build_mlp(input_shape=x_train.shape[1:])\n",
        "model.summary()\n",
        "optimizer = keras.optimizers.SGD(lr=LEARNING_RATE, nesterov=True, momentum=MOMENTUM)\n",
        "model.compile(loss=\"categorical_crossentropy\", metrics=[\"accuracy\"], optimizer=optimizer)\n",
        "\n",
        "model.fit(x_train, y_train, \n",
        "          epochs=EPOCHS, \n",
        "          batch_size=BATCH_SIZE, \n",
        "          validation_data=(x_test, y_test), \n",
        "          shuffle=True,\n",
        "          callbacks=[earlystop]\n",
        "         )\n",
        "\n",
        "# Collect results\n",
        "train_loss = model.history.history[\"loss\"]\n",
        "valid_loss = model.history.history[\"val_loss\"]\n",
        "train_acc = model.history.history[\"acc\"]\n",
        "valid_acc = model.history.history[\"val_acc\"]"
      ],
      "execution_count": 15,
      "outputs": [
        {
          "output_type": "stream",
          "text": [
            "_________________________________________________________________\n",
            "Layer (type)                 Output Shape              Param #   \n",
            "=================================================================\n",
            "input_4 (InputLayer)         (None, 3072)              0         \n",
            "_________________________________________________________________\n",
            "hidden_layer1 (Dense)        (None, 512)               1573376   \n",
            "_________________________________________________________________\n",
            "batch_normalization_10 (Batc (None, 512)               2048      \n",
            "_________________________________________________________________\n",
            "hidden_layer2 (Dense)        (None, 256)               131328    \n",
            "_________________________________________________________________\n",
            "batch_normalization_11 (Batc (None, 256)               1024      \n",
            "_________________________________________________________________\n",
            "hidden_layer3 (Dense)        (None, 128)               32896     \n",
            "_________________________________________________________________\n",
            "batch_normalization_12 (Batc (None, 128)               512       \n",
            "_________________________________________________________________\n",
            "output (Dense)               (None, 10)                1290      \n",
            "=================================================================\n",
            "Total params: 1,742,474\n",
            "Trainable params: 1,740,682\n",
            "Non-trainable params: 1,792\n",
            "_________________________________________________________________\n",
            "Train on 50000 samples, validate on 10000 samples\n",
            "Epoch 1/50\n",
            "50000/50000 [==============================] - 10s 206us/step - loss: 2.1957 - acc: 0.2775 - val_loss: 2.1037 - val_acc: 0.3281\n",
            "Epoch 2/50\n",
            "50000/50000 [==============================] - 9s 183us/step - loss: 1.7478 - acc: 0.3956 - val_loss: 1.7809 - val_acc: 0.3859\n",
            "Epoch 3/50\n",
            "50000/50000 [==============================] - 9s 184us/step - loss: 1.6251 - acc: 0.4332 - val_loss: 1.7109 - val_acc: 0.4089\n",
            "Epoch 4/50\n",
            "50000/50000 [==============================] - 9s 183us/step - loss: 1.5534 - acc: 0.4564 - val_loss: 1.6299 - val_acc: 0.4385\n",
            "Epoch 5/50\n",
            "50000/50000 [==============================] - 9s 182us/step - loss: 1.4965 - acc: 0.4768 - val_loss: 1.5941 - val_acc: 0.4460\n",
            "Epoch 6/50\n",
            "50000/50000 [==============================] - 9s 183us/step - loss: 1.4516 - acc: 0.4922 - val_loss: 1.5642 - val_acc: 0.4473\n",
            "Epoch 7/50\n",
            "50000/50000 [==============================] - 9s 183us/step - loss: 1.4112 - acc: 0.5078 - val_loss: 1.5547 - val_acc: 0.4539\n",
            "Epoch 8/50\n",
            "50000/50000 [==============================] - 9s 183us/step - loss: 1.3752 - acc: 0.5190 - val_loss: 1.5253 - val_acc: 0.4653\n",
            "Epoch 9/50\n",
            "50000/50000 [==============================] - 9s 181us/step - loss: 1.3432 - acc: 0.5326 - val_loss: 1.5281 - val_acc: 0.4645\n",
            "Epoch 10/50\n",
            "50000/50000 [==============================] - 9s 182us/step - loss: 1.3133 - acc: 0.5445 - val_loss: 1.5077 - val_acc: 0.4668\n",
            "Epoch 11/50\n",
            "50000/50000 [==============================] - 9s 183us/step - loss: 1.2840 - acc: 0.5544 - val_loss: 1.4885 - val_acc: 0.4784\n",
            "Epoch 12/50\n",
            "50000/50000 [==============================] - 9s 183us/step - loss: 1.2579 - acc: 0.5636 - val_loss: 1.4976 - val_acc: 0.4721\n",
            "Epoch 13/50\n",
            "50000/50000 [==============================] - 9s 182us/step - loss: 1.2304 - acc: 0.5754 - val_loss: 1.4918 - val_acc: 0.4728\n",
            "Epoch 14/50\n",
            "50000/50000 [==============================] - 9s 180us/step - loss: 1.2053 - acc: 0.5845 - val_loss: 1.4771 - val_acc: 0.4826\n",
            "Epoch 15/50\n",
            "50000/50000 [==============================] - 9s 181us/step - loss: 1.1817 - acc: 0.5913 - val_loss: 1.4672 - val_acc: 0.4841\n",
            "Epoch 16/50\n",
            "50000/50000 [==============================] - 9s 182us/step - loss: 1.1568 - acc: 0.6027 - val_loss: 1.4660 - val_acc: 0.4873\n",
            "Epoch 17/50\n",
            "50000/50000 [==============================] - 9s 183us/step - loss: 1.1337 - acc: 0.6108 - val_loss: 1.4664 - val_acc: 0.4875\n",
            "Epoch 18/50\n",
            "50000/50000 [==============================] - 9s 183us/step - loss: 1.1105 - acc: 0.6184 - val_loss: 1.4705 - val_acc: 0.4870\n",
            "Epoch 19/50\n",
            "50000/50000 [==============================] - 9s 182us/step - loss: 1.0886 - acc: 0.6256 - val_loss: 1.4540 - val_acc: 0.4978\n",
            "Epoch 20/50\n",
            "50000/50000 [==============================] - 9s 183us/step - loss: 1.0655 - acc: 0.6360 - val_loss: 1.4621 - val_acc: 0.4901\n",
            "Epoch 21/50\n",
            "50000/50000 [==============================] - 9s 181us/step - loss: 1.0437 - acc: 0.6455 - val_loss: 1.4630 - val_acc: 0.4938\n",
            "Epoch 22/50\n",
            "50000/50000 [==============================] - 9s 182us/step - loss: 1.0244 - acc: 0.6515 - val_loss: 1.4523 - val_acc: 0.4967\n",
            "Epoch 23/50\n",
            "50000/50000 [==============================] - 9s 182us/step - loss: 1.0000 - acc: 0.6625 - val_loss: 1.4661 - val_acc: 0.4925\n",
            "Epoch 24/50\n",
            "50000/50000 [==============================] - 9s 185us/step - loss: 0.9787 - acc: 0.6680 - val_loss: 1.4612 - val_acc: 0.4939\n",
            "Epoch 00024: early stopping\n"
          ],
          "name": "stdout"
        }
      ]
    },
    {
      "cell_type": "code",
      "metadata": {
        "id": "lDV2dOwlYLlZ",
        "colab_type": "code",
        "colab": {
          "base_uri": "https://localhost:8080/",
          "height": 545
        },
        "outputId": "b3dfdfa4-309c-45d6-bc68-0081bfbfea1c"
      },
      "source": [
        "import matplotlib.pyplot as plt\n",
        "%matplotlib inline\n",
        "\n",
        "plt.plot(range(len(train_loss)), train_loss, label=\"train loss\")\n",
        "plt.plot(range(len(valid_loss)), valid_loss, label=\"valid loss\")\n",
        "plt.legend()\n",
        "plt.title(\"Loss\")\n",
        "plt.show()\n",
        "\n",
        "plt.plot(range(len(train_acc)), train_acc, label=\"train accuracy\")\n",
        "plt.plot(range(len(valid_acc)), valid_acc, label=\"valid accuracy\")\n",
        "plt.legend()\n",
        "plt.title(\"Accuracy\")\n",
        "plt.show()"
      ],
      "execution_count": 16,
      "outputs": [
        {
          "output_type": "display_data",
          "data": {
            "image/png": "[encoded data removed]",
            "text/plain": [
              "<Figure size 432x288 with 1 Axes>"
            ]
          },
          "metadata": {
            "tags": []
          }
        },
        {
          "output_type": "display_data",
          "data": {
            "image/png": "[encoded data removed]",
            "text/plain": [
              "<Figure size 432x288 with 1 Axes>"
            ]
          },
          "metadata": {
            "tags": []
          }
        }
      ]
    },
    {
      "cell_type": "code",
      "metadata": {
        "id": "Z4o7d6U4cmhR",
        "colab_type": "code",
        "colab": {
          "base_uri": "https://localhost:8080/",
          "height": 1000
        },
        "outputId": "d3f020a7-b986-41d2-fbd8-f0976d0761be"
      },
      "source": [
        "from keras.callbacks import EarlyStopping\n",
        "\n",
        "earlystop = EarlyStopping(monitor=\"val_acc\", \n",
        "                          patience=10, \n",
        "                          verbose=1,\n",
        "                          mode='auto',\n",
        "                          min_delta=0.003\n",
        "                          )\n",
        "\n",
        "\n",
        "results = {}\n",
        "\"\"\"Code Here\n",
        "撰寫你的訓練流程並將結果用 dictionary 紀錄\n",
        "\"\"\"\n",
        "model = build_mlp(input_shape=x_train.shape[1:])\n",
        "model.summary()\n",
        "optimizer = keras.optimizers.SGD(lr=LEARNING_RATE, nesterov=True, momentum=MOMENTUM)\n",
        "model.compile(loss=\"categorical_crossentropy\", metrics=[\"accuracy\"], optimizer=optimizer)\n",
        "\n",
        "model.fit(x_train, y_train, \n",
        "          epochs=EPOCHS, \n",
        "          batch_size=BATCH_SIZE, \n",
        "          validation_data=(x_test, y_test), \n",
        "          shuffle=True,\n",
        "          callbacks=[earlystop]\n",
        "         )\n",
        "\n",
        "# Collect results\n",
        "train_loss = model.history.history[\"loss\"]\n",
        "valid_loss = model.history.history[\"val_loss\"]\n",
        "train_acc = model.history.history[\"acc\"]\n",
        "valid_acc = model.history.history[\"val_acc\"]"
      ],
      "execution_count": 17,
      "outputs": [
        {
          "output_type": "stream",
          "text": [
            "_________________________________________________________________\n",
            "Layer (type)                 Output Shape              Param #   \n",
            "=================================================================\n",
            "input_5 (InputLayer)         (None, 3072)              0         \n",
            "_________________________________________________________________\n",
            "hidden_layer1 (Dense)        (None, 512)               1573376   \n",
            "_________________________________________________________________\n",
            "batch_normalization_13 (Batc (None, 512)               2048      \n",
            "_________________________________________________________________\n",
            "hidden_layer2 (Dense)        (None, 256)               131328    \n",
            "_________________________________________________________________\n",
            "batch_normalization_14 (Batc (None, 256)               1024      \n",
            "_________________________________________________________________\n",
            "hidden_layer3 (Dense)        (None, 128)               32896     \n",
            "_________________________________________________________________\n",
            "batch_normalization_15 (Batc (None, 128)               512       \n",
            "_________________________________________________________________\n",
            "output (Dense)               (None, 10)                1290      \n",
            "=================================================================\n",
            "Total params: 1,742,474\n",
            "Trainable params: 1,740,682\n",
            "Non-trainable params: 1,792\n",
            "_________________________________________________________________\n",
            "Train on 50000 samples, validate on 10000 samples\n",
            "Epoch 1/50\n",
            "50000/50000 [==============================] - 10s 207us/step - loss: 2.2205 - acc: 0.2726 - val_loss: 2.1753 - val_acc: 0.3182\n",
            "Epoch 2/50\n",
            "50000/50000 [==============================] - 9s 184us/step - loss: 1.7390 - acc: 0.3939 - val_loss: 1.8129 - val_acc: 0.3767\n",
            "Epoch 3/50\n",
            "50000/50000 [==============================] - 9s 178us/step - loss: 1.6115 - acc: 0.4372 - val_loss: 1.6863 - val_acc: 0.4128\n",
            "Epoch 4/50\n",
            "50000/50000 [==============================] - 9s 181us/step - loss: 1.5378 - acc: 0.4608 - val_loss: 1.6177 - val_acc: 0.4391\n",
            "Epoch 5/50\n",
            "50000/50000 [==============================] - 9s 183us/step - loss: 1.4836 - acc: 0.4838 - val_loss: 1.5792 - val_acc: 0.4442\n",
            "Epoch 6/50\n",
            "50000/50000 [==============================] - 9s 181us/step - loss: 1.4365 - acc: 0.4977 - val_loss: 1.5747 - val_acc: 0.4436\n",
            "Epoch 7/50\n",
            "50000/50000 [==============================] - 9s 184us/step - loss: 1.3961 - acc: 0.5141 - val_loss: 1.5343 - val_acc: 0.4624\n",
            "Epoch 8/50\n",
            "50000/50000 [==============================] - 9s 182us/step - loss: 1.3613 - acc: 0.5265 - val_loss: 1.5138 - val_acc: 0.4643\n",
            "Epoch 9/50\n",
            "50000/50000 [==============================] - 9s 179us/step - loss: 1.3295 - acc: 0.5378 - val_loss: 1.4978 - val_acc: 0.4749\n",
            "Epoch 10/50\n",
            "50000/50000 [==============================] - 9s 180us/step - loss: 1.3004 - acc: 0.5487 - val_loss: 1.4942 - val_acc: 0.4735\n",
            "Epoch 11/50\n",
            "50000/50000 [==============================] - 9s 179us/step - loss: 1.2735 - acc: 0.5573 - val_loss: 1.4802 - val_acc: 0.4832\n",
            "Epoch 12/50\n",
            "50000/50000 [==============================] - 9s 177us/step - loss: 1.2455 - acc: 0.5686 - val_loss: 1.4832 - val_acc: 0.4812\n",
            "Epoch 13/50\n",
            "50000/50000 [==============================] - 9s 181us/step - loss: 1.2205 - acc: 0.5768 - val_loss: 1.4737 - val_acc: 0.4804\n",
            "Epoch 14/50\n",
            "50000/50000 [==============================] - 9s 181us/step - loss: 1.1965 - acc: 0.5870 - val_loss: 1.4650 - val_acc: 0.4870\n",
            "Epoch 15/50\n",
            "50000/50000 [==============================] - 9s 180us/step - loss: 1.1735 - acc: 0.5936 - val_loss: 1.4604 - val_acc: 0.4891\n",
            "Epoch 16/50\n",
            "50000/50000 [==============================] - 9s 181us/step - loss: 1.1508 - acc: 0.6022 - val_loss: 1.4595 - val_acc: 0.4929\n",
            "Epoch 17/50\n",
            "50000/50000 [==============================] - 9s 182us/step - loss: 1.1272 - acc: 0.6134 - val_loss: 1.4500 - val_acc: 0.4919\n",
            "Epoch 18/50\n",
            "50000/50000 [==============================] - 9s 183us/step - loss: 1.1039 - acc: 0.6208 - val_loss: 1.4477 - val_acc: 0.4911\n",
            "Epoch 19/50\n",
            "50000/50000 [==============================] - 9s 177us/step - loss: 1.0821 - acc: 0.6296 - val_loss: 1.4564 - val_acc: 0.4893\n",
            "Epoch 20/50\n",
            "50000/50000 [==============================] - 9s 179us/step - loss: 1.0619 - acc: 0.6378 - val_loss: 1.4445 - val_acc: 0.4933\n",
            "Epoch 21/50\n",
            "50000/50000 [==============================] - 9s 181us/step - loss: 1.0402 - acc: 0.6455 - val_loss: 1.4495 - val_acc: 0.4954\n",
            "Epoch 22/50\n",
            "50000/50000 [==============================] - 9s 183us/step - loss: 1.0174 - acc: 0.6533 - val_loss: 1.4553 - val_acc: 0.4931\n",
            "Epoch 23/50\n",
            "50000/50000 [==============================] - 9s 182us/step - loss: 0.9989 - acc: 0.6622 - val_loss: 1.4550 - val_acc: 0.4975\n",
            "Epoch 24/50\n",
            "50000/50000 [==============================] - 9s 182us/step - loss: 0.9767 - acc: 0.6702 - val_loss: 1.4660 - val_acc: 0.4909\n",
            "Epoch 25/50\n",
            "50000/50000 [==============================] - 9s 182us/step - loss: 0.9570 - acc: 0.6784 - val_loss: 1.4757 - val_acc: 0.4938\n",
            "Epoch 26/50\n",
            "50000/50000 [==============================] - 9s 181us/step - loss: 0.9392 - acc: 0.6851 - val_loss: 1.4622 - val_acc: 0.4903\n",
            "Epoch 27/50\n",
            "50000/50000 [==============================] - 9s 183us/step - loss: 0.9157 - acc: 0.6926 - val_loss: 1.4672 - val_acc: 0.4987\n",
            "Epoch 28/50\n",
            "50000/50000 [==============================] - 9s 182us/step - loss: 0.8968 - acc: 0.7019 - val_loss: 1.4694 - val_acc: 0.4931\n",
            "Epoch 29/50\n",
            "50000/50000 [==============================] - 9s 180us/step - loss: 0.8759 - acc: 0.7105 - val_loss: 1.4846 - val_acc: 0.4933\n",
            "Epoch 30/50\n",
            "50000/50000 [==============================] - 9s 179us/step - loss: 0.8569 - acc: 0.7175 - val_loss: 1.4699 - val_acc: 0.5041\n",
            "Epoch 31/50\n",
            "50000/50000 [==============================] - 9s 179us/step - loss: 0.8375 - acc: 0.7254 - val_loss: 1.4795 - val_acc: 0.4971\n",
            "Epoch 32/50\n",
            "50000/50000 [==============================] - 9s 180us/step - loss: 0.8186 - acc: 0.7334 - val_loss: 1.4976 - val_acc: 0.4915\n",
            "Epoch 33/50\n",
            "50000/50000 [==============================] - 9s 178us/step - loss: 0.7992 - acc: 0.7400 - val_loss: 1.5039 - val_acc: 0.4939\n",
            "Epoch 34/50\n",
            "50000/50000 [==============================] - 9s 181us/step - loss: 0.7809 - acc: 0.7461 - val_loss: 1.5038 - val_acc: 0.4926\n",
            "Epoch 35/50\n",
            "50000/50000 [==============================] - 9s 183us/step - loss: 0.7613 - acc: 0.7549 - val_loss: 1.5117 - val_acc: 0.4949\n",
            "Epoch 36/50\n",
            "50000/50000 [==============================] - 9s 182us/step - loss: 0.7445 - acc: 0.7621 - val_loss: 1.5151 - val_acc: 0.4921\n",
            "Epoch 37/50\n",
            "50000/50000 [==============================] - 9s 184us/step - loss: 0.7227 - acc: 0.7707 - val_loss: 1.5248 - val_acc: 0.4904\n",
            "Epoch 38/50\n",
            "50000/50000 [==============================] - 9s 181us/step - loss: 0.7064 - acc: 0.7763 - val_loss: 1.5293 - val_acc: 0.4946\n",
            "Epoch 39/50\n",
            "50000/50000 [==============================] - 9s 182us/step - loss: 0.6855 - acc: 0.7859 - val_loss: 1.5489 - val_acc: 0.4925\n",
            "Epoch 40/50\n",
            "50000/50000 [==============================] - 9s 181us/step - loss: 0.6690 - acc: 0.7908 - val_loss: 1.5510 - val_acc: 0.4940\n",
            "Epoch 00040: early stopping\n"
          ],
          "name": "stdout"
        }
      ]
    },
    {
      "cell_type": "code",
      "metadata": {
        "id": "NGQyFDgie4u6",
        "colab_type": "code",
        "colab": {
          "base_uri": "https://localhost:8080/",
          "height": 545
        },
        "outputId": "12722a92-b6f9-4af0-cd37-a311ba39658d"
      },
      "source": [
        "import matplotlib.pyplot as plt\n",
        "%matplotlib inline\n",
        "\n",
        "plt.plot(range(len(train_loss)), train_loss, label=\"train loss\")\n",
        "plt.plot(range(len(valid_loss)), valid_loss, label=\"valid loss\")\n",
        "plt.legend()\n",
        "plt.title(\"Loss\")\n",
        "plt.show()\n",
        "\n",
        "plt.plot(range(len(train_acc)), train_acc, label=\"train accuracy\")\n",
        "plt.plot(range(len(valid_acc)), valid_acc, label=\"valid accuracy\")\n",
        "plt.legend()\n",
        "plt.title(\"Accuracy\")\n",
        "plt.show()"
      ],
      "execution_count": 18,
      "outputs": [
        {
          "output_type": "display_data",
          "data": {
            "image/png": "[encoded data removed]",
            "text/plain": [
              "<Figure size 432x288 with 1 Axes>"
            ]
          },
          "metadata": {
            "tags": []
          }
        },
        {
          "output_type": "display_data",
          "data": {
            "image/png": "[encoded data removed]",
            "text/plain": [
              "<Figure size 432x288 with 1 Axes>"
            ]
          },
          "metadata": {
            "tags": []
          }
        }
      ]
    },
    {
      "cell_type": "code",
      "metadata": {
        "id": "tVhNInfoe8AP",
        "colab_type": "code",
        "colab": {}
      },
      "source": [
        ""
      ],
      "execution_count": 0,
      "outputs": []
    }
  ]
}