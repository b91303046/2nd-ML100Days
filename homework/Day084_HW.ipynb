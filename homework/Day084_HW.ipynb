{
  "nbformat": 4,
  "nbformat_minor": 0,
  "metadata": {
    "kernelspec": {
      "name": "python3",
      "display_name": "Python 3"
    },
    "language_info": {
      "codemirror_mode": {
        "name": "ipython",
        "version": 3
      },
      "file_extension": ".py",
      "mimetype": "text/x-python",
      "name": "python",
      "nbconvert_exporter": "python",
      "pygments_lexer": "ipython3",
      "version": "3.6.5"
    },
    "colab": {
      "name": "Day084_HW.ipynb",
      "version": "0.3.2",
      "provenance": [],
      "include_colab_link": true
    },
    "accelerator": "GPU"
  },
  "cells": [
    {
      "cell_type": "markdown",
      "metadata": {
        "id": "view-in-github",
        "colab_type": "text"
      },
      "source": [
        "<a href=\"https://colab.research.google.com/github/b91303046/2nd-ML100Days/blob/master/homework/Day084_HW.ipynb\" target=\"_parent\"><img src=\"https://colab.research.google.com/assets/colab-badge.svg\" alt=\"Open In Colab\"/></a>"
      ]
    },
    {
      "cell_type": "markdown",
      "metadata": {
        "id": "bzAo3LfSRJ_V",
        "colab_type": "text"
      },
      "source": [
        "## Work\n",
        "### 請結合前面的知識與程式碼，比較不同的 regularization 的組合對訓練的結果與影響：如 dropout, regularizers, batch-normalization 等"
      ]
    },
    {
      "cell_type": "code",
      "metadata": {
        "id": "eWt_Qn3gRJ_X",
        "colab_type": "code",
        "colab": {
          "base_uri": "https://localhost:8080/",
          "height": 34
        },
        "outputId": "7400f760-30b2-4023-af97-8c0431535fc5"
      },
      "source": [
        "import os\n",
        "import keras\n",
        "import itertools\n",
        "# Disable GPU\n",
        "os.environ[\"CUDA_VISIBLE_DEVICES\"] = \"\""
      ],
      "execution_count": 1,
      "outputs": [
        {
          "output_type": "stream",
          "text": [
            "Using TensorFlow backend.\n"
          ],
          "name": "stderr"
        }
      ]
    },
    {
      "cell_type": "code",
      "metadata": {
        "id": "5tNIYDfbRJ_b",
        "colab_type": "code",
        "colab": {}
      },
      "source": [
        "train, test = keras.datasets.cifar10.load_data()"
      ],
      "execution_count": 0,
      "outputs": []
    },
    {
      "cell_type": "code",
      "metadata": {
        "id": "o6HAYpB6RJ_f",
        "colab_type": "code",
        "colab": {}
      },
      "source": [
        "## 資料前處理\n",
        "def preproc_x(x, flatten=True):\n",
        "    x = x / 255.\n",
        "    if flatten:\n",
        "        x = x.reshape((len(x), -1))\n",
        "    return x\n",
        "\n",
        "def preproc_y(y, num_classes=10):\n",
        "    if y.shape[-1] == 1:\n",
        "        y = keras.utils.to_categorical(y, num_classes)\n",
        "    return y    "
      ],
      "execution_count": 0,
      "outputs": []
    },
    {
      "cell_type": "code",
      "metadata": {
        "id": "LHNIe0E8RJ_j",
        "colab_type": "code",
        "colab": {}
      },
      "source": [
        "x_train, y_train = train\n",
        "x_test, y_test = test\n",
        "\n",
        "# Preproc the inputs\n",
        "x_train = preproc_x(x_train)\n",
        "x_test = preproc_x(x_test)\n",
        "\n",
        "# Preprc the outputs\n",
        "y_train = preproc_y(y_train)\n",
        "y_test = preproc_y(y_test)"
      ],
      "execution_count": 0,
      "outputs": []
    },
    {
      "cell_type": "code",
      "metadata": {
        "id": "WC6gffVaRJ_n",
        "colab_type": "code",
        "colab": {}
      },
      "source": [
        "from keras.layers import BatchNormalization\n",
        "from keras.layers import Dropout\n",
        "from keras.regularizers import l1, l2, l1_l2\n",
        "\n",
        "\"\"\"\n",
        "建立神經網路，並加入 BN layer\n",
        "\"\"\"\n",
        "def build_mlp(input_shape, output_units=10, num_neurons=[512, 256, 128],drp_ratio=0.5,l2_ratio=1e-4):\n",
        "    input_layer = keras.layers.Input(input_shape)\n",
        "    \n",
        "    for i, n_units in enumerate(num_neurons):\n",
        "        if i == 0:\n",
        "            x = keras.layers.Dense(units=n_units, \n",
        "                                   activation=\"relu\", \n",
        "                                   name=\"hidden_layer\"+str(i+1),\n",
        "                                  kernel_regularizer=l2(l2_ratio))(input_layer)\n",
        "            \n",
        "            x = Dropout(drp_ratio)(x)\n",
        "            x = BatchNormalization()(x)\n",
        "        else:\n",
        "            x = keras.layers.Dense(units=n_units, \n",
        "                                   activation=\"relu\", \n",
        "                                   name=\"hidden_layer\"+str(i+1),\n",
        "                                  kernel_regularizer=l2(l2_ratio))(x)\n",
        "            x = Dropout(drp_ratio)(x)\n",
        "            x = BatchNormalization()(x)\n",
        "    \n",
        "    out = keras.layers.Dense(units=output_units, activation=\"softmax\", name=\"output\")(x)\n",
        "    \n",
        "    model = keras.models.Model(inputs=[input_layer], outputs=[out])\n",
        "    return model"
      ],
      "execution_count": 0,
      "outputs": []
    },
    {
      "cell_type": "code",
      "metadata": {
        "id": "DMjzFYGoRJ_p",
        "colab_type": "code",
        "colab": {}
      },
      "source": [
        "\"\"\"Code Here\n",
        "設定超參數\n",
        "\"\"\"\n",
        "LEARNING_RATE = 1e-3\n",
        "EPOCHS = 50\n",
        "BATCH_SIZE = 1024\n",
        "MOMENTUM = 0.95"
      ],
      "execution_count": 0,
      "outputs": []
    },
    {
      "cell_type": "code",
      "metadata": {
        "scrolled": true,
        "id": "UQr4CaVZRJ_s",
        "colab_type": "code",
        "colab": {
          "base_uri": "https://localhost:8080/",
          "height": 1000
        },
        "outputId": "93be4a5d-2cca-4e1d-8669-0f5f2916e74c"
      },
      "source": [
        "results = {}\n",
        "\"\"\"Code Here\n",
        "撰寫你的訓練流程並將結果用 dictionary 紀錄\n",
        "\"\"\"\n",
        "model = build_mlp(input_shape=x_train.shape[1:])\n",
        "model.summary()\n",
        "optimizer = keras.optimizers.Adam(lr=LEARNING_RATE)\n",
        "model.compile(loss=\"categorical_crossentropy\", metrics=[\"accuracy\"], optimizer=optimizer)\n",
        "\n",
        "model.fit(x_train, y_train, \n",
        "          epochs=EPOCHS, \n",
        "          batch_size=BATCH_SIZE, \n",
        "          validation_data=(x_test, y_test), \n",
        "          shuffle=True)\n",
        "\n",
        "# Collect results\n",
        "train_loss = model.history.history[\"loss\"]\n",
        "valid_loss = model.history.history[\"val_loss\"]\n",
        "train_acc = model.history.history[\"acc\"]\n",
        "valid_acc = model.history.history[\"val_acc\"]"
      ],
      "execution_count": 19,
      "outputs": [
        {
          "output_type": "stream",
          "text": [
            "_________________________________________________________________\n",
            "Layer (type)                 Output Shape              Param #   \n",
            "=================================================================\n",
            "input_4 (InputLayer)         (None, 3072)              0         \n",
            "_________________________________________________________________\n",
            "hidden_layer1 (Dense)        (None, 512)               1573376   \n",
            "_________________________________________________________________\n",
            "dropout_7 (Dropout)          (None, 512)               0         \n",
            "_________________________________________________________________\n",
            "batch_normalization_7 (Batch (None, 512)               2048      \n",
            "_________________________________________________________________\n",
            "hidden_layer2 (Dense)        (None, 256)               131328    \n",
            "_________________________________________________________________\n",
            "dropout_8 (Dropout)          (None, 256)               0         \n",
            "_________________________________________________________________\n",
            "batch_normalization_8 (Batch (None, 256)               1024      \n",
            "_________________________________________________________________\n",
            "hidden_layer3 (Dense)        (None, 128)               32896     \n",
            "_________________________________________________________________\n",
            "dropout_9 (Dropout)          (None, 128)               0         \n",
            "_________________________________________________________________\n",
            "batch_normalization_9 (Batch (None, 128)               512       \n",
            "_________________________________________________________________\n",
            "output (Dense)               (None, 10)                1290      \n",
            "=================================================================\n",
            "Total params: 1,742,474\n",
            "Trainable params: 1,740,682\n",
            "Non-trainable params: 1,792\n",
            "_________________________________________________________________\n",
            "Train on 50000 samples, validate on 10000 samples\n",
            "Epoch 1/50\n",
            "50000/50000 [==============================] - 12s 246us/step - loss: 2.6270 - acc: 0.1805 - val_loss: 2.0650 - val_acc: 0.2930\n",
            "Epoch 2/50\n",
            "50000/50000 [==============================] - 11s 217us/step - loss: 2.2500 - acc: 0.2488 - val_loss: 1.9823 - val_acc: 0.3202\n",
            "Epoch 3/50\n",
            "50000/50000 [==============================] - 11s 214us/step - loss: 2.1124 - acc: 0.2814 - val_loss: 2.0397 - val_acc: 0.3023\n",
            "Epoch 4/50\n",
            "50000/50000 [==============================] - 11s 220us/step - loss: 2.0208 - acc: 0.3101 - val_loss: 1.9166 - val_acc: 0.3445\n",
            "Epoch 5/50\n",
            "50000/50000 [==============================] - 11s 220us/step - loss: 1.9660 - acc: 0.3309 - val_loss: 2.0021 - val_acc: 0.3139\n",
            "Epoch 6/50\n",
            "50000/50000 [==============================] - 10s 204us/step - loss: 1.9295 - acc: 0.3463 - val_loss: 1.9543 - val_acc: 0.3357\n",
            "Epoch 7/50\n",
            "50000/50000 [==============================] - 10s 204us/step - loss: 1.9065 - acc: 0.3529 - val_loss: 1.8949 - val_acc: 0.3271\n",
            "Epoch 8/50\n",
            "50000/50000 [==============================] - 11s 211us/step - loss: 1.8848 - acc: 0.3616 - val_loss: 1.8598 - val_acc: 0.3596\n",
            "Epoch 9/50\n",
            "50000/50000 [==============================] - 11s 218us/step - loss: 1.8629 - acc: 0.3708 - val_loss: 1.8334 - val_acc: 0.3583\n",
            "Epoch 10/50\n",
            "50000/50000 [==============================] - 10s 205us/step - loss: 1.8419 - acc: 0.3795 - val_loss: 1.8537 - val_acc: 0.3577\n",
            "Epoch 11/50\n",
            "50000/50000 [==============================] - 10s 205us/step - loss: 1.8448 - acc: 0.3792 - val_loss: 1.9277 - val_acc: 0.3514\n",
            "Epoch 12/50\n",
            "50000/50000 [==============================] - 10s 204us/step - loss: 1.8416 - acc: 0.3797 - val_loss: 1.7802 - val_acc: 0.4053\n",
            "Epoch 13/50\n",
            "50000/50000 [==============================] - 10s 204us/step - loss: 1.8199 - acc: 0.3852 - val_loss: 1.8577 - val_acc: 0.3568\n",
            "Epoch 14/50\n",
            "50000/50000 [==============================] - 10s 204us/step - loss: 1.8055 - acc: 0.3861 - val_loss: 1.6945 - val_acc: 0.4274\n",
            "Epoch 15/50\n",
            "50000/50000 [==============================] - 10s 206us/step - loss: 1.7927 - acc: 0.3921 - val_loss: 1.6822 - val_acc: 0.4353\n",
            "Epoch 16/50\n",
            "50000/50000 [==============================] - 10s 204us/step - loss: 1.7919 - acc: 0.3931 - val_loss: 1.6880 - val_acc: 0.4210\n",
            "Epoch 17/50\n",
            "50000/50000 [==============================] - 10s 205us/step - loss: 1.7750 - acc: 0.3942 - val_loss: 1.6641 - val_acc: 0.4317\n",
            "Epoch 18/50\n",
            "50000/50000 [==============================] - 10s 203us/step - loss: 1.7791 - acc: 0.3929 - val_loss: 1.7123 - val_acc: 0.4221\n",
            "Epoch 19/50\n",
            "50000/50000 [==============================] - 10s 203us/step - loss: 1.7706 - acc: 0.4002 - val_loss: 1.6730 - val_acc: 0.4317\n",
            "Epoch 20/50\n",
            "50000/50000 [==============================] - 10s 203us/step - loss: 1.7616 - acc: 0.4009 - val_loss: 1.6373 - val_acc: 0.4435\n",
            "Epoch 21/50\n",
            "50000/50000 [==============================] - 11s 217us/step - loss: 1.7541 - acc: 0.4016 - val_loss: 1.6457 - val_acc: 0.4372\n",
            "Epoch 22/50\n",
            "50000/50000 [==============================] - 10s 207us/step - loss: 1.7558 - acc: 0.4012 - val_loss: 1.6584 - val_acc: 0.4334\n",
            "Epoch 23/50\n",
            "50000/50000 [==============================] - 10s 203us/step - loss: 1.7577 - acc: 0.3997 - val_loss: 1.6799 - val_acc: 0.4325\n",
            "Epoch 24/50\n",
            "50000/50000 [==============================] - 10s 202us/step - loss: 1.7598 - acc: 0.3953 - val_loss: 1.6524 - val_acc: 0.4397\n",
            "Epoch 25/50\n",
            "50000/50000 [==============================] - 10s 203us/step - loss: 1.7582 - acc: 0.3941 - val_loss: 1.6778 - val_acc: 0.4274\n",
            "Epoch 26/50\n",
            "50000/50000 [==============================] - 10s 204us/step - loss: 1.7539 - acc: 0.3975 - val_loss: 1.6420 - val_acc: 0.4359\n",
            "Epoch 27/50\n",
            "50000/50000 [==============================] - 10s 204us/step - loss: 1.7546 - acc: 0.3939 - val_loss: 1.6635 - val_acc: 0.4337\n",
            "Epoch 28/50\n",
            "50000/50000 [==============================] - 10s 205us/step - loss: 1.7394 - acc: 0.4030 - val_loss: 1.6136 - val_acc: 0.4474\n",
            "Epoch 29/50\n",
            "50000/50000 [==============================] - 10s 205us/step - loss: 1.7428 - acc: 0.4013 - val_loss: 1.6196 - val_acc: 0.4403\n",
            "Epoch 30/50\n",
            "50000/50000 [==============================] - 10s 204us/step - loss: 1.7319 - acc: 0.4043 - val_loss: 1.6109 - val_acc: 0.4483\n",
            "Epoch 31/50\n",
            "50000/50000 [==============================] - 10s 206us/step - loss: 1.7321 - acc: 0.4065 - val_loss: 1.6122 - val_acc: 0.4430\n",
            "Epoch 32/50\n",
            "50000/50000 [==============================] - 10s 207us/step - loss: 1.7209 - acc: 0.4059 - val_loss: 1.6016 - val_acc: 0.4526\n",
            "Epoch 33/50\n",
            "50000/50000 [==============================] - 10s 205us/step - loss: 1.7133 - acc: 0.4095 - val_loss: 1.5799 - val_acc: 0.4623\n",
            "Epoch 34/50\n",
            "50000/50000 [==============================] - 11s 211us/step - loss: 1.7074 - acc: 0.4120 - val_loss: 1.5988 - val_acc: 0.4511\n",
            "Epoch 35/50\n",
            "50000/50000 [==============================] - 10s 208us/step - loss: 1.6987 - acc: 0.4110 - val_loss: 1.5758 - val_acc: 0.4633\n",
            "Epoch 36/50\n",
            "50000/50000 [==============================] - 10s 207us/step - loss: 1.6919 - acc: 0.4175 - val_loss: 1.6931 - val_acc: 0.4074\n",
            "Epoch 37/50\n",
            "50000/50000 [==============================] - 10s 205us/step - loss: 1.6972 - acc: 0.4172 - val_loss: 1.5737 - val_acc: 0.4591\n",
            "Epoch 38/50\n",
            "50000/50000 [==============================] - 10s 209us/step - loss: 1.6766 - acc: 0.4241 - val_loss: 1.5825 - val_acc: 0.4581\n",
            "Epoch 39/50\n",
            "50000/50000 [==============================] - 10s 209us/step - loss: 1.6876 - acc: 0.4165 - val_loss: 1.5675 - val_acc: 0.4639\n",
            "Epoch 40/50\n",
            "50000/50000 [==============================] - 10s 208us/step - loss: 1.6835 - acc: 0.4198 - val_loss: 1.5594 - val_acc: 0.4653\n",
            "Epoch 41/50\n",
            "50000/50000 [==============================] - 10s 207us/step - loss: 1.6826 - acc: 0.4178 - val_loss: 1.5579 - val_acc: 0.4679\n",
            "Epoch 42/50\n",
            "50000/50000 [==============================] - 10s 208us/step - loss: 1.6744 - acc: 0.4229 - val_loss: 1.5830 - val_acc: 0.4563\n",
            "Epoch 43/50\n",
            "50000/50000 [==============================] - 10s 208us/step - loss: 1.6868 - acc: 0.4193 - val_loss: 1.5865 - val_acc: 0.4659\n",
            "Epoch 44/50\n",
            "50000/50000 [==============================] - 11s 213us/step - loss: 1.6815 - acc: 0.4161 - val_loss: 1.5891 - val_acc: 0.4611\n",
            "Epoch 45/50\n",
            "50000/50000 [==============================] - 11s 220us/step - loss: 1.6706 - acc: 0.4217 - val_loss: 1.6020 - val_acc: 0.4546\n",
            "Epoch 46/50\n",
            "50000/50000 [==============================] - 11s 220us/step - loss: 1.6761 - acc: 0.4214 - val_loss: 2.3904 - val_acc: 0.2631\n",
            "Epoch 47/50\n",
            "50000/50000 [==============================] - 11s 219us/step - loss: 1.6774 - acc: 0.4216 - val_loss: 1.5749 - val_acc: 0.4580\n",
            "Epoch 48/50\n",
            "50000/50000 [==============================] - 11s 221us/step - loss: 1.6725 - acc: 0.4200 - val_loss: 1.5614 - val_acc: 0.4595\n",
            "Epoch 49/50\n",
            "50000/50000 [==============================] - 11s 219us/step - loss: 1.6727 - acc: 0.4201 - val_loss: 1.5826 - val_acc: 0.4634\n",
            "Epoch 50/50\n",
            "50000/50000 [==============================] - 11s 212us/step - loss: 1.6598 - acc: 0.4238 - val_loss: 1.5622 - val_acc: 0.4652\n"
          ],
          "name": "stdout"
        }
      ]
    },
    {
      "cell_type": "code",
      "metadata": {
        "id": "hejfjtivRJ_w",
        "colab_type": "code",
        "colab": {
          "base_uri": "https://localhost:8080/",
          "height": 545
        },
        "outputId": "7eeb4006-9afb-46f8-8969-4b63d92b6c66"
      },
      "source": [
        "import matplotlib.pyplot as plt\n",
        "%matplotlib inline\n",
        "plt.plot(range(len(train_loss)), train_loss, label=\"train loss\")\n",
        "plt.plot(range(len(valid_loss)), valid_loss, label=\"valid loss\")\n",
        "plt.legend()\n",
        "plt.title(\"Loss\")\n",
        "plt.show()\n",
        "plt.plot(range(len(train_acc)), train_acc, label=\"train accuracy\")\n",
        "plt.plot(range(len(valid_acc)), valid_acc, label=\"valid accuracy\")\n",
        "plt.legend()\n",
        "plt.title(\"Accuracy\")\n",
        "plt.show()"
      ],
      "execution_count": 20,
      "outputs": [
        {
          "output_type": "display_data",
          "data": {
            "image/png": "[encoded data removed]",
            "text/plain": [
              "<Figure size 432x288 with 1 Axes>"
            ]
          },
          "metadata": {
            "tags": []
          }
        },
        {
          "output_type": "display_data",
          "data": {
            "image/png": "[encoded data removed]",
            "text/plain": [
              "<Figure size 432x288 with 1 Axes>"
            ]
          },
          "metadata": {
            "tags": []
          }
        }
      ]
    },
    {
      "cell_type": "code",
      "metadata": {
        "id": "aYwkI6YPV9QQ",
        "colab_type": "code",
        "colab": {}
      },
      "source": [
        ""
      ],
      "execution_count": 0,
      "outputs": []
    }
  ]
}