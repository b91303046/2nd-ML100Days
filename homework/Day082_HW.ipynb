{
  "nbformat": 4,
  "nbformat_minor": 0,
  "metadata": {
    "kernelspec": {
      "name": "python3",
      "display_name": "Python 3"
    },
    "language_info": {
      "codemirror_mode": {
        "name": "ipython",
        "version": 3
      },
      "file_extension": ".py",
      "mimetype": "text/x-python",
      "name": "python",
      "nbconvert_exporter": "python",
      "pygments_lexer": "ipython3",
      "version": "3.6.5"
    },
    "colab": {
      "name": "Day082_HW.ipynb",
      "version": "0.3.2",
      "provenance": [],
      "include_colab_link": true
    },
    "accelerator": "GPU"
  },
  "cells": [
    {
      "cell_type": "markdown",
      "metadata": {
        "id": "view-in-github",
        "colab_type": "text"
      },
      "source": [
        "<a href=\"https://colab.research.google.com/github/b91303046/2nd-ML100Days/blob/master/homework/Day082_HW.ipynb\" target=\"_parent\"><img src=\"https://colab.research.google.com/assets/colab-badge.svg\" alt=\"Open In Colab\"/></a>"
      ]
    },
    {
      "cell_type": "markdown",
      "metadata": {
        "id": "w2hq6hCy4OeO",
        "colab_type": "text"
      },
      "source": [
        "## Work\n",
        "1. 請比較使用不同層數以及不同 Dropout rate 對訓練的效果\n",
        "2. 將 optimizer 改成使用 Adam 並加上適當的 dropout rate 檢視結果"
      ]
    },
    {
      "cell_type": "code",
      "metadata": {
        "id": "7kHxv89I4OeQ",
        "colab_type": "code",
        "colab": {
          "base_uri": "https://localhost:8080/",
          "height": 34
        },
        "outputId": "8aa7707f-64ed-4077-e735-a34393f25565"
      },
      "source": [
        "import os\n",
        "import keras\n",
        "import itertools\n",
        "# Disable GPU\n",
        "os.environ[\"CUDA_VISIBLE_DEVICES\"] = \"\""
      ],
      "execution_count": 1,
      "outputs": [
        {
          "output_type": "stream",
          "text": [
            "Using TensorFlow backend.\n"
          ],
          "name": "stderr"
        }
      ]
    },
    {
      "cell_type": "code",
      "metadata": {
        "id": "pDCNK6g64OeX",
        "colab_type": "code",
        "colab": {
          "base_uri": "https://localhost:8080/",
          "height": 51
        },
        "outputId": "7928b2c7-1c12-405d-f490-5903ae66a2b3"
      },
      "source": [
        "train, test = keras.datasets.cifar10.load_data()"
      ],
      "execution_count": 2,
      "outputs": [
        {
          "output_type": "stream",
          "text": [
            "Downloading data from https://www.cs.toronto.edu/~kriz/cifar-10-python.tar.gz\n",
            "170500096/170498071 [==============================] - 6s 0us/step\n"
          ],
          "name": "stdout"
        }
      ]
    },
    {
      "cell_type": "code",
      "metadata": {
        "id": "aiorebYE4Oec",
        "colab_type": "code",
        "colab": {}
      },
      "source": [
        "## 資料前處理\n",
        "def preproc_x(x, flatten=True):\n",
        "    x = x / 255.\n",
        "    if flatten:\n",
        "        x = x.reshape((len(x), -1))\n",
        "    return x\n",
        "\n",
        "def preproc_y(y, num_classes=10):\n",
        "    if y.shape[-1] == 1:\n",
        "        y = keras.utils.to_categorical(y, num_classes)\n",
        "    return y    "
      ],
      "execution_count": 0,
      "outputs": []
    },
    {
      "cell_type": "code",
      "metadata": {
        "id": "0r_IC2dC4Oeg",
        "colab_type": "code",
        "colab": {}
      },
      "source": [
        "x_train, y_train = train\n",
        "x_test, y_test = test\n",
        "\n",
        "# Preproc the inputs\n",
        "x_train = preproc_x(x_train)\n",
        "x_test = preproc_x(x_test)\n",
        "\n",
        "# Preprc the outputs\n",
        "y_train = preproc_y(y_train)\n",
        "y_test = preproc_y(y_test)"
      ],
      "execution_count": 0,
      "outputs": []
    },
    {
      "cell_type": "code",
      "metadata": {
        "id": "375JOgT94Oel",
        "colab_type": "code",
        "colab": {}
      },
      "source": [
        "from keras.layers import Dropout\n",
        "\n",
        "\"\"\"\n",
        "建立神經網路，並加入 dropout layer\n",
        "\"\"\"\n",
        "def build_mlp(input_shape, output_units=10, num_neurons=[512, 256, 128,128], drp_ratio=0.5):\n",
        "    input_layer = keras.layers.Input(input_shape)\n",
        "    \n",
        "    for i, n_units in enumerate(num_neurons):\n",
        "        if i == 0:\n",
        "            x = keras.layers.Dense(units=n_units, \n",
        "                                   activation=\"relu\", \n",
        "                                   name=\"hidden_layer\"+str(i+1))(input_layer)\n",
        "            x = Dropout(drp_ratio)(x)\n",
        "        else:\n",
        "            x = keras.layers.Dense(units=n_units, \n",
        "                                   activation=\"relu\", \n",
        "                                   name=\"hidden_layer\"+str(i+1))(x)\n",
        "            x = Dropout(drp_ratio)(x)\n",
        "    \n",
        "    out = keras.layers.Dense(units=output_units, activation=\"softmax\", name=\"output\")(x)\n",
        "    \n",
        "    model = keras.models.Model(inputs=[input_layer], outputs=[out])\n",
        "    return model"
      ],
      "execution_count": 0,
      "outputs": []
    },
    {
      "cell_type": "code",
      "metadata": {
        "id": "eduCcJ1-4Oep",
        "colab_type": "code",
        "colab": {}
      },
      "source": [
        "\"\"\"Code Here\n",
        "設定超參數\n",
        "\"\"\"\n",
        "LEARNING_RATE = 1e-3\n",
        "EPOCHS = 50\n",
        "BATCH_SIZE = 1024\n",
        "MOMENTUM = 0.95\n",
        "Dropout_EXP = 0.5"
      ],
      "execution_count": 0,
      "outputs": []
    },
    {
      "cell_type": "code",
      "metadata": {
        "scrolled": true,
        "id": "emLztYuh4Oes",
        "colab_type": "code",
        "colab": {
          "base_uri": "https://localhost:8080/",
          "height": 1000
        },
        "outputId": "09f2ee10-a2bf-4ce1-ff89-2e04cfd2ae24"
      },
      "source": [
        "results = {}\n",
        "\"\"\"Code Here\n",
        "撰寫你的訓練流程並將結果用 dictionary 紀錄\n",
        "\"\"\"\n",
        "model = build_mlp(input_shape=x_train.shape[1:], drp_ratio=Dropout_EXP)\n",
        "model.summary()\n",
        "optimizer = keras.optimizers.Adam(lr=LEARNING_RATE)\n",
        "model.compile(loss=\"categorical_crossentropy\", metrics=[\"accuracy\"], optimizer=optimizer)\n",
        "\n",
        "model.fit(x_train, y_train, \n",
        "          epochs=EPOCHS, \n",
        "          batch_size=BATCH_SIZE, \n",
        "          validation_data=(x_test, y_test), \n",
        "          shuffle=True)\n",
        "\n",
        "# Collect results\n",
        "train_loss = model.history.history[\"loss\"]\n",
        "valid_loss = model.history.history[\"val_loss\"]\n",
        "train_acc = model.history.history[\"acc\"]\n",
        "valid_acc = model.history.history[\"val_acc\"]"
      ],
      "execution_count": 11,
      "outputs": [
        {
          "output_type": "stream",
          "text": [
            "_________________________________________________________________\n",
            "Layer (type)                 Output Shape              Param #   \n",
            "=================================================================\n",
            "input_3 (InputLayer)         (None, 3072)              0         \n",
            "_________________________________________________________________\n",
            "hidden_layer1 (Dense)        (None, 512)               1573376   \n",
            "_________________________________________________________________\n",
            "dropout_9 (Dropout)          (None, 512)               0         \n",
            "_________________________________________________________________\n",
            "hidden_layer2 (Dense)        (None, 256)               131328    \n",
            "_________________________________________________________________\n",
            "dropout_10 (Dropout)         (None, 256)               0         \n",
            "_________________________________________________________________\n",
            "hidden_layer3 (Dense)        (None, 128)               32896     \n",
            "_________________________________________________________________\n",
            "dropout_11 (Dropout)         (None, 128)               0         \n",
            "_________________________________________________________________\n",
            "hidden_layer4 (Dense)        (None, 128)               16512     \n",
            "_________________________________________________________________\n",
            "dropout_12 (Dropout)         (None, 128)               0         \n",
            "_________________________________________________________________\n",
            "output (Dense)               (None, 10)                1290      \n",
            "=================================================================\n",
            "Total params: 1,755,402\n",
            "Trainable params: 1,755,402\n",
            "Non-trainable params: 0\n",
            "_________________________________________________________________\n",
            "Train on 50000 samples, validate on 10000 samples\n",
            "Epoch 1/50\n",
            "50000/50000 [==============================] - 10s 193us/step - loss: 2.3315 - acc: 0.1166 - val_loss: 2.2396 - val_acc: 0.1599\n",
            "Epoch 2/50\n",
            "50000/50000 [==============================] - 10s 190us/step - loss: 2.2189 - acc: 0.1540 - val_loss: 2.1859 - val_acc: 0.1723\n",
            "Epoch 3/50\n",
            "50000/50000 [==============================] - 9s 184us/step - loss: 2.1806 - acc: 0.1604 - val_loss: 2.1686 - val_acc: 0.1932\n",
            "Epoch 4/50\n",
            "50000/50000 [==============================] - 9s 183us/step - loss: 2.1446 - acc: 0.1725 - val_loss: 2.1559 - val_acc: 0.1901\n",
            "Epoch 5/50\n",
            "50000/50000 [==============================] - 9s 179us/step - loss: 2.1149 - acc: 0.1803 - val_loss: 2.1239 - val_acc: 0.1986\n",
            "Epoch 6/50\n",
            "50000/50000 [==============================] - 9s 182us/step - loss: 2.1050 - acc: 0.1846 - val_loss: 2.1075 - val_acc: 0.2086\n",
            "Epoch 7/50\n",
            "50000/50000 [==============================] - 9s 180us/step - loss: 2.0982 - acc: 0.1874 - val_loss: 2.1073 - val_acc: 0.1968\n",
            "Epoch 8/50\n",
            "50000/50000 [==============================] - 9s 177us/step - loss: 2.0932 - acc: 0.1886 - val_loss: 2.0789 - val_acc: 0.2186\n",
            "Epoch 9/50\n",
            "50000/50000 [==============================] - 9s 179us/step - loss: 2.0880 - acc: 0.1927 - val_loss: 2.0770 - val_acc: 0.2172\n",
            "Epoch 10/50\n",
            "50000/50000 [==============================] - 9s 178us/step - loss: 2.0794 - acc: 0.1957 - val_loss: 2.0805 - val_acc: 0.2093\n",
            "Epoch 11/50\n",
            "50000/50000 [==============================] - 9s 179us/step - loss: 2.0715 - acc: 0.1973 - val_loss: 2.0982 - val_acc: 0.2032\n",
            "Epoch 12/50\n",
            "50000/50000 [==============================] - 9s 181us/step - loss: 2.0710 - acc: 0.1992 - val_loss: 2.1035 - val_acc: 0.1995\n",
            "Epoch 13/50\n",
            "50000/50000 [==============================] - 9s 177us/step - loss: 2.0747 - acc: 0.1984 - val_loss: 2.0716 - val_acc: 0.2042\n",
            "Epoch 14/50\n",
            "50000/50000 [==============================] - 9s 181us/step - loss: 2.0658 - acc: 0.2018 - val_loss: 2.1182 - val_acc: 0.2048\n",
            "Epoch 15/50\n",
            "50000/50000 [==============================] - 9s 180us/step - loss: 2.0675 - acc: 0.2053 - val_loss: 2.1353 - val_acc: 0.1929\n",
            "Epoch 16/50\n",
            "50000/50000 [==============================] - 9s 178us/step - loss: 2.0662 - acc: 0.2032 - val_loss: 2.1050 - val_acc: 0.2104\n",
            "Epoch 17/50\n",
            "50000/50000 [==============================] - 9s 187us/step - loss: 2.0580 - acc: 0.2067 - val_loss: 2.0883 - val_acc: 0.1992\n",
            "Epoch 18/50\n",
            "50000/50000 [==============================] - 9s 183us/step - loss: 2.0622 - acc: 0.2061 - val_loss: 2.0868 - val_acc: 0.2053\n",
            "Epoch 19/50\n",
            "50000/50000 [==============================] - 9s 184us/step - loss: 2.0567 - acc: 0.2068 - val_loss: 2.0964 - val_acc: 0.2029\n",
            "Epoch 20/50\n",
            "50000/50000 [==============================] - 9s 187us/step - loss: 2.0590 - acc: 0.2072 - val_loss: 2.1084 - val_acc: 0.1906\n",
            "Epoch 21/50\n",
            "50000/50000 [==============================] - 10s 191us/step - loss: 2.0506 - acc: 0.2106 - val_loss: 2.1006 - val_acc: 0.1985\n",
            "Epoch 22/50\n",
            "50000/50000 [==============================] - 9s 185us/step - loss: 2.0508 - acc: 0.2096 - val_loss: 2.0827 - val_acc: 0.2031\n",
            "Epoch 23/50\n",
            "50000/50000 [==============================] - 9s 184us/step - loss: 2.0430 - acc: 0.2124 - val_loss: 2.0956 - val_acc: 0.2066\n",
            "Epoch 24/50\n",
            "50000/50000 [==============================] - 9s 181us/step - loss: 2.0360 - acc: 0.2136 - val_loss: 2.0770 - val_acc: 0.2066\n",
            "Epoch 25/50\n",
            "50000/50000 [==============================] - 9s 183us/step - loss: 2.0306 - acc: 0.2158 - val_loss: 2.0970 - val_acc: 0.1985\n",
            "Epoch 26/50\n",
            "50000/50000 [==============================] - 9s 182us/step - loss: 2.0228 - acc: 0.2181 - val_loss: 2.1547 - val_acc: 0.1768\n",
            "Epoch 27/50\n",
            "50000/50000 [==============================] - 9s 183us/step - loss: 2.0302 - acc: 0.2145 - val_loss: 2.1202 - val_acc: 0.1962\n",
            "Epoch 28/50\n",
            "50000/50000 [==============================] - 9s 180us/step - loss: 2.0262 - acc: 0.2176 - val_loss: 2.1007 - val_acc: 0.1971\n",
            "Epoch 29/50\n",
            "50000/50000 [==============================] - 9s 182us/step - loss: 2.0290 - acc: 0.2211 - val_loss: 2.0971 - val_acc: 0.2065\n",
            "Epoch 30/50\n",
            "50000/50000 [==============================] - 9s 183us/step - loss: 2.0247 - acc: 0.2206 - val_loss: 2.0916 - val_acc: 0.2024\n",
            "Epoch 31/50\n",
            "50000/50000 [==============================] - 9s 183us/step - loss: 2.0257 - acc: 0.2182 - val_loss: 2.1449 - val_acc: 0.1875\n",
            "Epoch 32/50\n",
            "50000/50000 [==============================] - 9s 180us/step - loss: 2.0176 - acc: 0.2223 - val_loss: 2.0781 - val_acc: 0.2119\n",
            "Epoch 33/50\n",
            "50000/50000 [==============================] - 9s 179us/step - loss: 2.0235 - acc: 0.2177 - val_loss: 2.0828 - val_acc: 0.2135\n",
            "Epoch 34/50\n",
            "50000/50000 [==============================] - 9s 179us/step - loss: 2.0148 - acc: 0.2235 - val_loss: 2.1528 - val_acc: 0.1975\n",
            "Epoch 35/50\n",
            "50000/50000 [==============================] - 9s 180us/step - loss: 2.0191 - acc: 0.2210 - val_loss: 2.1147 - val_acc: 0.2076\n",
            "Epoch 36/50\n",
            "50000/50000 [==============================] - 9s 178us/step - loss: 2.0174 - acc: 0.2216 - val_loss: 2.0749 - val_acc: 0.2072\n",
            "Epoch 37/50\n",
            "50000/50000 [==============================] - 9s 178us/step - loss: 2.0148 - acc: 0.2227 - val_loss: 2.1400 - val_acc: 0.1972\n",
            "Epoch 38/50\n",
            "50000/50000 [==============================] - 9s 179us/step - loss: 2.0130 - acc: 0.2247 - val_loss: 2.0906 - val_acc: 0.1924\n",
            "Epoch 39/50\n",
            "50000/50000 [==============================] - 9s 180us/step - loss: 2.0122 - acc: 0.2237 - val_loss: 2.0847 - val_acc: 0.1956\n",
            "Epoch 40/50\n",
            "50000/50000 [==============================] - 9s 178us/step - loss: 2.0199 - acc: 0.2231 - val_loss: 2.1013 - val_acc: 0.2100\n",
            "Epoch 41/50\n",
            "50000/50000 [==============================] - 9s 178us/step - loss: 2.0107 - acc: 0.2260 - val_loss: 2.1117 - val_acc: 0.2044\n",
            "Epoch 42/50\n",
            "50000/50000 [==============================] - 9s 178us/step - loss: 2.0128 - acc: 0.2245 - val_loss: 2.1116 - val_acc: 0.2076\n",
            "Epoch 43/50\n",
            "50000/50000 [==============================] - 9s 179us/step - loss: 2.0120 - acc: 0.2270 - val_loss: 2.0923 - val_acc: 0.2092\n",
            "Epoch 44/50\n",
            "50000/50000 [==============================] - 9s 181us/step - loss: 2.0104 - acc: 0.2262 - val_loss: 2.1446 - val_acc: 0.1937\n",
            "Epoch 45/50\n",
            "50000/50000 [==============================] - 9s 187us/step - loss: 2.0090 - acc: 0.2293 - val_loss: 2.1586 - val_acc: 0.1869\n",
            "Epoch 46/50\n",
            "50000/50000 [==============================] - 9s 186us/step - loss: 2.0093 - acc: 0.2254 - val_loss: 2.1012 - val_acc: 0.2084\n",
            "Epoch 47/50\n",
            "50000/50000 [==============================] - 10s 191us/step - loss: 2.0044 - acc: 0.2293 - val_loss: 2.1549 - val_acc: 0.1943\n",
            "Epoch 48/50\n",
            "50000/50000 [==============================] - 10s 192us/step - loss: 2.0042 - acc: 0.2254 - val_loss: 2.1325 - val_acc: 0.2057\n",
            "Epoch 49/50\n",
            "50000/50000 [==============================] - 10s 192us/step - loss: 2.0073 - acc: 0.2278 - val_loss: 2.1048 - val_acc: 0.2062\n",
            "Epoch 50/50\n",
            "50000/50000 [==============================] - 10s 192us/step - loss: 2.0041 - acc: 0.2293 - val_loss: 2.0751 - val_acc: 0.2113\n"
          ],
          "name": "stdout"
        }
      ]
    },
    {
      "cell_type": "code",
      "metadata": {
        "id": "qYMD_RrZ4Oew",
        "colab_type": "code",
        "colab": {
          "base_uri": "https://localhost:8080/",
          "height": 545
        },
        "outputId": "f6e02648-2415-439e-8668-1225d51eff2d"
      },
      "source": [
        "import matplotlib.pyplot as plt\n",
        "%matplotlib inline\n",
        "\n",
        "plt.plot(range(len(train_loss)), train_loss, label=\"train loss\")\n",
        "plt.plot(range(len(valid_loss)), valid_loss, label=\"valid loss\")\n",
        "plt.legend()\n",
        "plt.title(\"Loss\")\n",
        "plt.show()\n",
        "\n",
        "plt.plot(range(len(train_acc)), train_acc, label=\"train accuracy\")\n",
        "plt.plot(range(len(valid_acc)), valid_acc, label=\"valid accuracy\")\n",
        "plt.legend()\n",
        "plt.title(\"Accuracy\")\n",
        "plt.show()\n"
      ],
      "execution_count": 12,
      "outputs": [
        {
          "output_type": "display_data",
          "data": {
            "image/png": "[encoded data removed]",
            "text/plain": [
              "<Figure size 432x288 with 1 Axes>"
            ]
          },
          "metadata": {
            "tags": []
          }
        },
        {
          "output_type": "display_data",
          "data": {
            "image/png": "[encoded data removed]",
            "text/plain": [
              "<Figure size 432x288 with 1 Axes>"
            ]
          },
          "metadata": {
            "tags": []
          }
        }
      ]
    }
  ]
}