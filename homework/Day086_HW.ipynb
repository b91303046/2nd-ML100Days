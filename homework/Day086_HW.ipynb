{
  "nbformat": 4,
  "nbformat_minor": 0,
  "metadata": {
    "kernelspec": {
      "name": "python3",
      "display_name": "Python 3"
    },
    "language_info": {
      "codemirror_mode": {
        "name": "ipython",
        "version": 3
      },
      "file_extension": ".py",
      "mimetype": "text/x-python",
      "name": "python",
      "nbconvert_exporter": "python",
      "pygments_lexer": "ipython3",
      "version": "3.6.5"
    },
    "colab": {
      "name": "Day086_HW.ipynb",
      "version": "0.3.2",
      "provenance": [],
      "include_colab_link": true
    },
    "accelerator": "GPU"
  },
  "cells": [
    {
      "cell_type": "markdown",
      "metadata": {
        "id": "view-in-github",
        "colab_type": "text"
      },
      "source": [
        "<a href=\"https://colab.research.google.com/github/b91303046/2nd-ML100Days/blob/master/homework/Day086_HW.ipynb\" target=\"_parent\"><img src=\"https://colab.research.google.com/assets/colab-badge.svg\" alt=\"Open In Colab\"/></a>"
      ]
    },
    {
      "cell_type": "markdown",
      "metadata": {
        "id": "GL5Vl8Qn6E67",
        "colab_type": "text"
      },
      "source": [
        "## Work\n",
        "1. 試比較 save_best_only 與否的差異\n",
        "2. 請僅存入將 save_weights_only 設定為 True, 並嘗試 reset ipynb 並將模型與權重重新建回並預測 x_test"
      ]
    },
    {
      "cell_type": "code",
      "metadata": {
        "id": "PRLFmwjr6E69",
        "colab_type": "code",
        "colab": {
          "base_uri": "https://localhost:8080/",
          "height": 34
        },
        "outputId": "c5654d3f-89f6-432a-a24f-bfb9e5cdf39b"
      },
      "source": [
        "import os\n",
        "import keras\n",
        "\n",
        "# Disable GPU\n",
        "os.environ[\"CUDA_VISIBLE_DEVICES\"] = \"\""
      ],
      "execution_count": 1,
      "outputs": [
        {
          "output_type": "stream",
          "text": [
            "Using TensorFlow backend.\n"
          ],
          "name": "stderr"
        }
      ]
    },
    {
      "cell_type": "code",
      "metadata": {
        "id": "RgZN07-16E7B",
        "colab_type": "code",
        "colab": {
          "base_uri": "https://localhost:8080/",
          "height": 51
        },
        "outputId": "2a564daa-cb27-4e37-9cfd-9cb05785492e"
      },
      "source": [
        "train, test = keras.datasets.cifar10.load_data()"
      ],
      "execution_count": 2,
      "outputs": [
        {
          "output_type": "stream",
          "text": [
            "Downloading data from https://www.cs.toronto.edu/~kriz/cifar-10-python.tar.gz\n",
            "170500096/170498071 [==============================] - 2s 0us/step\n"
          ],
          "name": "stdout"
        }
      ]
    },
    {
      "cell_type": "code",
      "metadata": {
        "id": "b3h43lpS6E7E",
        "colab_type": "code",
        "colab": {}
      },
      "source": [
        "## 資料前處理\n",
        "def preproc_x(x, flatten=True):\n",
        "    x = x / 255.\n",
        "    if flatten:\n",
        "        x = x.reshape((len(x), -1))\n",
        "    return x\n",
        "\n",
        "def preproc_y(y, num_classes=10):\n",
        "    if y.shape[-1] == 1:\n",
        "        y = keras.utils.to_categorical(y, num_classes)\n",
        "    return y    "
      ],
      "execution_count": 0,
      "outputs": []
    },
    {
      "cell_type": "code",
      "metadata": {
        "id": "olRtVbRo6E7G",
        "colab_type": "code",
        "colab": {}
      },
      "source": [
        "x_train, y_train = train\n",
        "x_test, y_test = test\n",
        "\n",
        "# Preproc the inputs\n",
        "x_train = preproc_x(x_train)\n",
        "x_test = preproc_x(x_test)\n",
        "\n",
        "# Preprc the outputs\n",
        "y_train = preproc_y(y_train)\n",
        "y_test = preproc_y(y_test)"
      ],
      "execution_count": 0,
      "outputs": []
    },
    {
      "cell_type": "code",
      "metadata": {
        "id": "H4-Djedk6E7J",
        "colab_type": "code",
        "colab": {}
      },
      "source": [
        "from keras.layers import BatchNormalization\n",
        "\n",
        "\"\"\"\n",
        "建立神經網路，並加入 BN layer\n",
        "\"\"\"\n",
        "def build_mlp(input_shape, output_units=10, num_neurons=[512, 256, 128]):\n",
        "    input_layer = keras.layers.Input(input_shape)\n",
        "    \n",
        "    for i, n_units in enumerate(num_neurons):\n",
        "        if i == 0:\n",
        "            x = keras.layers.Dense(units=n_units, \n",
        "                                   activation=\"relu\", \n",
        "                                   name=\"hidden_layer\"+str(i+1))(input_layer)\n",
        "            x = BatchNormalization()(x)\n",
        "        else:\n",
        "            x = keras.layers.Dense(units=n_units, \n",
        "                                   activation=\"relu\", \n",
        "                                   name=\"hidden_layer\"+str(i+1))(x)\n",
        "            x = BatchNormalization()(x)\n",
        "    \n",
        "    out = keras.layers.Dense(units=output_units, activation=\"softmax\", name=\"output\")(x)\n",
        "    \n",
        "    model = keras.models.Model(inputs=[input_layer], outputs=[out])\n",
        "    return model"
      ],
      "execution_count": 0,
      "outputs": []
    },
    {
      "cell_type": "code",
      "metadata": {
        "id": "YsWP4B-V6E7L",
        "colab_type": "code",
        "colab": {}
      },
      "source": [
        "\"\"\"Code Here\n",
        "設定超參數\n",
        "\"\"\"\n",
        "LEARNING_RATE = 1e-3\n",
        "EPOCHS = 50\n",
        "BATCH_SIZE = 1024\n",
        "MOMENTUM = 0.95"
      ],
      "execution_count": 0,
      "outputs": []
    },
    {
      "cell_type": "code",
      "metadata": {
        "id": "h6YvstvF6E7O",
        "colab_type": "code",
        "colab": {
          "base_uri": "https://localhost:8080/",
          "height": 1000
        },
        "outputId": "7ed32519-d7f6-4419-ce42-16808c3382f4"
      },
      "source": [
        "# 載入 Callbacks\n",
        "\"\"\"Code Here\n",
        "設定 callbacks: model checkpoint\n",
        "\"\"\"\n",
        "from keras.callbacks import ModelCheckpoint\n",
        "\n",
        "model_ckpt = ModelCheckpoint(filepath=\"./tmp.h5\", \n",
        "                             monitor=\"val_loss\", \n",
        "                             save_best_only=True)\n",
        "\n",
        "results = {}\n",
        "\"\"\"Code Here\n",
        "撰寫你的訓練流程並將結果用 dictionary 紀錄\n",
        "\"\"\"\n",
        "model = build_mlp(input_shape=x_train.shape[1:])\n",
        "model.summary()\n",
        "optimizer = keras.optimizers.SGD(lr=LEARNING_RATE, nesterov=True, momentum=MOMENTUM)\n",
        "model.compile(loss=\"categorical_crossentropy\", metrics=[\"accuracy\"], optimizer=optimizer)\n",
        "\n",
        "model.fit(x_train, y_train, \n",
        "          epochs=EPOCHS, \n",
        "          batch_size=BATCH_SIZE, \n",
        "          validation_data=(x_test, y_test), \n",
        "          shuffle=True,\n",
        "          callbacks=[model_ckpt]\n",
        "         )\n",
        "\n",
        "# Collect results\n",
        "train_loss = model.history.history[\"loss\"]\n",
        "valid_loss = model.history.history[\"val_loss\"]\n",
        "train_acc = model.history.history[\"acc\"]\n",
        "valid_acc = model.history.history[\"val_acc\"]\n",
        "\n",
        "# Load back\n",
        "model = keras.models.load_model(\"./tmp.h5\")\n",
        "loss_loadback, acc_loadback = model.evaluate(x_test, y_test)"
      ],
      "execution_count": 7,
      "outputs": [
        {
          "output_type": "stream",
          "text": [
            "WARNING: Logging before flag parsing goes to stderr.\n",
            "W0724 07:37:17.791068 140671697835904 deprecation_wrapper.py:119] From /usr/local/lib/python3.6/dist-packages/keras/backend/tensorflow_backend.py:74: The name tf.get_default_graph is deprecated. Please use tf.compat.v1.get_default_graph instead.\n",
            "\n",
            "W0724 07:37:17.835123 140671697835904 deprecation_wrapper.py:119] From /usr/local/lib/python3.6/dist-packages/keras/backend/tensorflow_backend.py:517: The name tf.placeholder is deprecated. Please use tf.compat.v1.placeholder instead.\n",
            "\n",
            "W0724 07:37:17.845113 140671697835904 deprecation_wrapper.py:119] From /usr/local/lib/python3.6/dist-packages/keras/backend/tensorflow_backend.py:4138: The name tf.random_uniform is deprecated. Please use tf.random.uniform instead.\n",
            "\n",
            "W0724 07:37:17.945165 140671697835904 deprecation_wrapper.py:119] From /usr/local/lib/python3.6/dist-packages/keras/backend/tensorflow_backend.py:133: The name tf.placeholder_with_default is deprecated. Please use tf.compat.v1.placeholder_with_default instead.\n",
            "\n",
            "W0724 07:37:18.316602 140671697835904 deprecation_wrapper.py:119] From /usr/local/lib/python3.6/dist-packages/keras/optimizers.py:790: The name tf.train.Optimizer is deprecated. Please use tf.compat.v1.train.Optimizer instead.\n",
            "\n",
            "W0724 07:37:18.326758 140671697835904 deprecation_wrapper.py:119] From /usr/local/lib/python3.6/dist-packages/keras/backend/tensorflow_backend.py:3295: The name tf.log is deprecated. Please use tf.math.log instead.\n",
            "\n",
            "W0724 07:37:18.444844 140671697835904 deprecation.py:323] From /usr/local/lib/python3.6/dist-packages/tensorflow/python/ops/math_grad.py:1250: add_dispatch_support.<locals>.wrapper (from tensorflow.python.ops.array_ops) is deprecated and will be removed in a future version.\n",
            "Instructions for updating:\n",
            "Use tf.where in 2.0, which has the same broadcast rule as np.where\n"
          ],
          "name": "stderr"
        },
        {
          "output_type": "stream",
          "text": [
            "_________________________________________________________________\n",
            "Layer (type)                 Output Shape              Param #   \n",
            "=================================================================\n",
            "input_1 (InputLayer)         (None, 3072)              0         \n",
            "_________________________________________________________________\n",
            "hidden_layer1 (Dense)        (None, 512)               1573376   \n",
            "_________________________________________________________________\n",
            "batch_normalization_1 (Batch (None, 512)               2048      \n",
            "_________________________________________________________________\n",
            "hidden_layer2 (Dense)        (None, 256)               131328    \n",
            "_________________________________________________________________\n",
            "batch_normalization_2 (Batch (None, 256)               1024      \n",
            "_________________________________________________________________\n",
            "hidden_layer3 (Dense)        (None, 128)               32896     \n",
            "_________________________________________________________________\n",
            "batch_normalization_3 (Batch (None, 128)               512       \n",
            "_________________________________________________________________\n",
            "output (Dense)               (None, 10)                1290      \n",
            "=================================================================\n",
            "Total params: 1,742,474\n",
            "Trainable params: 1,740,682\n",
            "Non-trainable params: 1,792\n",
            "_________________________________________________________________\n",
            "Train on 50000 samples, validate on 10000 samples\n",
            "Epoch 1/50\n",
            "50000/50000 [==============================] - 8s 163us/step - loss: 2.2530 - acc: 0.2655 - val_loss: 2.0435 - val_acc: 0.3189\n",
            "Epoch 2/50\n",
            "50000/50000 [==============================] - 8s 160us/step - loss: 1.7664 - acc: 0.3901 - val_loss: 1.8161 - val_acc: 0.3809\n",
            "Epoch 3/50\n",
            "50000/50000 [==============================] - 7s 148us/step - loss: 1.6317 - acc: 0.4297 - val_loss: 1.7148 - val_acc: 0.3979\n",
            "Epoch 4/50\n",
            "50000/50000 [==============================] - 8s 154us/step - loss: 1.5524 - acc: 0.4561 - val_loss: 1.6399 - val_acc: 0.4218\n",
            "Epoch 5/50\n",
            "50000/50000 [==============================] - 8s 157us/step - loss: 1.4924 - acc: 0.4784 - val_loss: 1.5892 - val_acc: 0.4422\n",
            "Epoch 6/50\n",
            "50000/50000 [==============================] - 8s 155us/step - loss: 1.4450 - acc: 0.4958 - val_loss: 1.5634 - val_acc: 0.4467\n",
            "Epoch 7/50\n",
            "50000/50000 [==============================] - 8s 154us/step - loss: 1.4024 - acc: 0.5110 - val_loss: 1.5525 - val_acc: 0.4502\n",
            "Epoch 8/50\n",
            "50000/50000 [==============================] - 8s 153us/step - loss: 1.3676 - acc: 0.5242 - val_loss: 1.5341 - val_acc: 0.4593\n",
            "Epoch 9/50\n",
            "50000/50000 [==============================] - 8s 159us/step - loss: 1.3330 - acc: 0.5365 - val_loss: 1.5204 - val_acc: 0.4706\n",
            "Epoch 10/50\n",
            "50000/50000 [==============================] - 8s 160us/step - loss: 1.3018 - acc: 0.5462 - val_loss: 1.5011 - val_acc: 0.4719\n",
            "Epoch 11/50\n",
            "50000/50000 [==============================] - 8s 153us/step - loss: 1.2736 - acc: 0.5577 - val_loss: 1.4987 - val_acc: 0.4723\n",
            "Epoch 12/50\n",
            "50000/50000 [==============================] - 8s 153us/step - loss: 1.2465 - acc: 0.5659 - val_loss: 1.5061 - val_acc: 0.4705\n",
            "Epoch 13/50\n",
            "50000/50000 [==============================] - 8s 156us/step - loss: 1.2222 - acc: 0.5758 - val_loss: 1.4750 - val_acc: 0.4820\n",
            "Epoch 14/50\n",
            "50000/50000 [==============================] - 8s 151us/step - loss: 1.1951 - acc: 0.5872 - val_loss: 1.4702 - val_acc: 0.4873\n",
            "Epoch 15/50\n",
            "50000/50000 [==============================] - 8s 156us/step - loss: 1.1701 - acc: 0.5956 - val_loss: 1.4701 - val_acc: 0.4859\n",
            "Epoch 16/50\n",
            "50000/50000 [==============================] - 7s 146us/step - loss: 1.1460 - acc: 0.6058 - val_loss: 1.4779 - val_acc: 0.4774\n",
            "Epoch 17/50\n",
            "50000/50000 [==============================] - 7s 150us/step - loss: 1.1237 - acc: 0.6133 - val_loss: 1.4675 - val_acc: 0.4862\n",
            "Epoch 18/50\n",
            "50000/50000 [==============================] - 8s 151us/step - loss: 1.1022 - acc: 0.6235 - val_loss: 1.4725 - val_acc: 0.4865\n",
            "Epoch 19/50\n",
            "50000/50000 [==============================] - 8s 154us/step - loss: 1.0780 - acc: 0.6327 - val_loss: 1.4600 - val_acc: 0.4892\n",
            "Epoch 20/50\n",
            "50000/50000 [==============================] - 8s 157us/step - loss: 1.0580 - acc: 0.6404 - val_loss: 1.4498 - val_acc: 0.4936\n",
            "Epoch 21/50\n",
            "50000/50000 [==============================] - 8s 158us/step - loss: 1.0348 - acc: 0.6485 - val_loss: 1.4653 - val_acc: 0.4942\n",
            "Epoch 22/50\n",
            "50000/50000 [==============================] - 8s 153us/step - loss: 1.0149 - acc: 0.6557 - val_loss: 1.4561 - val_acc: 0.4965\n",
            "Epoch 23/50\n",
            "50000/50000 [==============================] - 8s 162us/step - loss: 0.9936 - acc: 0.6650 - val_loss: 1.4604 - val_acc: 0.4932\n",
            "Epoch 24/50\n",
            "50000/50000 [==============================] - 8s 151us/step - loss: 0.9714 - acc: 0.6736 - val_loss: 1.4680 - val_acc: 0.4928\n",
            "Epoch 25/50\n",
            "50000/50000 [==============================] - 7s 149us/step - loss: 0.9518 - acc: 0.6835 - val_loss: 1.4659 - val_acc: 0.4948\n",
            "Epoch 26/50\n",
            "50000/50000 [==============================] - 7s 146us/step - loss: 0.9317 - acc: 0.6906 - val_loss: 1.4579 - val_acc: 0.4950\n",
            "Epoch 27/50\n",
            "50000/50000 [==============================] - 8s 153us/step - loss: 0.9098 - acc: 0.6976 - val_loss: 1.4715 - val_acc: 0.4951\n",
            "Epoch 28/50\n",
            "50000/50000 [==============================] - 8s 152us/step - loss: 0.8904 - acc: 0.7060 - val_loss: 1.4655 - val_acc: 0.5009\n",
            "Epoch 29/50\n",
            "50000/50000 [==============================] - 8s 152us/step - loss: 0.8697 - acc: 0.7145 - val_loss: 1.4841 - val_acc: 0.4956\n",
            "Epoch 30/50\n",
            "50000/50000 [==============================] - 7s 148us/step - loss: 0.8507 - acc: 0.7201 - val_loss: 1.4759 - val_acc: 0.5011\n",
            "Epoch 31/50\n",
            "50000/50000 [==============================] - 8s 153us/step - loss: 0.8299 - acc: 0.7304 - val_loss: 1.4956 - val_acc: 0.4913\n",
            "Epoch 32/50\n",
            "50000/50000 [==============================] - 8s 152us/step - loss: 0.8102 - acc: 0.7374 - val_loss: 1.4902 - val_acc: 0.4915\n",
            "Epoch 33/50\n",
            "50000/50000 [==============================] - 7s 149us/step - loss: 0.7914 - acc: 0.7453 - val_loss: 1.5006 - val_acc: 0.4998\n",
            "Epoch 34/50\n",
            "50000/50000 [==============================] - 7s 148us/step - loss: 0.7720 - acc: 0.7534 - val_loss: 1.5067 - val_acc: 0.4971\n",
            "Epoch 35/50\n",
            "50000/50000 [==============================] - 7s 147us/step - loss: 0.7540 - acc: 0.7601 - val_loss: 1.5305 - val_acc: 0.4939\n",
            "Epoch 36/50\n",
            "50000/50000 [==============================] - 7s 149us/step - loss: 0.7346 - acc: 0.7682 - val_loss: 1.5294 - val_acc: 0.4988\n",
            "Epoch 37/50\n",
            "50000/50000 [==============================] - 8s 152us/step - loss: 0.7154 - acc: 0.7759 - val_loss: 1.5266 - val_acc: 0.5025\n",
            "Epoch 38/50\n",
            "50000/50000 [==============================] - 7s 147us/step - loss: 0.6975 - acc: 0.7822 - val_loss: 1.5514 - val_acc: 0.4969\n",
            "Epoch 39/50\n",
            "50000/50000 [==============================] - 8s 151us/step - loss: 0.6811 - acc: 0.7889 - val_loss: 1.5522 - val_acc: 0.4944\n",
            "Epoch 40/50\n",
            "50000/50000 [==============================] - 7s 148us/step - loss: 0.6607 - acc: 0.7983 - val_loss: 1.5672 - val_acc: 0.4979\n",
            "Epoch 41/50\n",
            "50000/50000 [==============================] - 7s 148us/step - loss: 0.6428 - acc: 0.8044 - val_loss: 1.5863 - val_acc: 0.4876\n",
            "Epoch 42/50\n",
            "50000/50000 [==============================] - 8s 152us/step - loss: 0.6256 - acc: 0.8101 - val_loss: 1.5732 - val_acc: 0.4944\n",
            "Epoch 43/50\n",
            "50000/50000 [==============================] - 8s 152us/step - loss: 0.6059 - acc: 0.8199 - val_loss: 1.5932 - val_acc: 0.4905\n",
            "Epoch 44/50\n",
            "50000/50000 [==============================] - 7s 148us/step - loss: 0.5865 - acc: 0.8274 - val_loss: 1.6000 - val_acc: 0.4968\n",
            "Epoch 45/50\n",
            "50000/50000 [==============================] - 7s 149us/step - loss: 0.5711 - acc: 0.8321 - val_loss: 1.6521 - val_acc: 0.4848\n",
            "Epoch 46/50\n",
            "50000/50000 [==============================] - 7s 146us/step - loss: 0.5538 - acc: 0.8391 - val_loss: 1.6227 - val_acc: 0.4952\n",
            "Epoch 47/50\n",
            "50000/50000 [==============================] - 7s 149us/step - loss: 0.5374 - acc: 0.8447 - val_loss: 1.6490 - val_acc: 0.4895\n",
            "Epoch 48/50\n",
            "50000/50000 [==============================] - 7s 148us/step - loss: 0.5213 - acc: 0.8510 - val_loss: 1.6576 - val_acc: 0.4901\n",
            "Epoch 49/50\n",
            "50000/50000 [==============================] - 7s 149us/step - loss: 0.5034 - acc: 0.8582 - val_loss: 1.6634 - val_acc: 0.4928\n",
            "Epoch 50/50\n",
            "50000/50000 [==============================] - 7s 145us/step - loss: 0.4890 - acc: 0.8638 - val_loss: 1.6898 - val_acc: 0.4929\n",
            "10000/10000 [==============================] - 1s 135us/step\n"
          ],
          "name": "stdout"
        }
      ]
    },
    {
      "cell_type": "code",
      "metadata": {
        "scrolled": true,
        "id": "g0Urnsoq6E7R",
        "colab_type": "code",
        "colab": {
          "base_uri": "https://localhost:8080/",
          "height": 545
        },
        "outputId": "18d543b6-8947-4129-d7ee-8d97699ad5da"
      },
      "source": [
        "import matplotlib.pyplot as plt\n",
        "%matplotlib inline\n",
        "\n",
        "plt.plot(range(len(train_loss)), train_loss, label=\"train loss\")\n",
        "plt.plot(range(len(valid_loss)), valid_loss, label=\"valid loss\")\n",
        "plt.hlines(y=loss_loadback, xmin=0, xmax=len(train_loss), colors='r', linestyles='--')\n",
        "plt.legend()\n",
        "plt.title(\"Loss\")\n",
        "plt.show()\n",
        "\n",
        "plt.plot(range(len(train_acc)), train_acc, label=\"train accuracy\")\n",
        "plt.plot(range(len(valid_acc)), valid_acc, label=\"valid accuracy\")\n",
        "plt.hlines(y=acc_loadback, xmin=0, xmax=len(train_loss), colors='r', linestyles='--')\n",
        "plt.legend()\n",
        "plt.title(\"Accuracy\")\n",
        "plt.show()"
      ],
      "execution_count": 8,
      "outputs": [
        {
          "output_type": "display_data",
          "data": {
            "image/png": "[encoded data removed]",
            "text/plain": [
              "<Figure size 432x288 with 1 Axes>"
            ]
          },
          "metadata": {
            "tags": []
          }
        },
        {
          "output_type": "display_data",
          "data": {
            "image/png": "[encoded data removed]",
            "text/plain": [
              "<Figure size 432x288 with 1 Axes>"
            ]
          },
          "metadata": {
            "tags": []
          }
        }
      ]
    },
    {
      "cell_type": "code",
      "metadata": {
        "id": "5pNaAwX_8Yjf",
        "colab_type": "code",
        "colab": {
          "base_uri": "https://localhost:8080/",
          "height": 1000
        },
        "outputId": "853d7aca-e1da-4264-c7f0-ce0e6e422c63"
      },
      "source": [
        "# 載入 Callbacks\n",
        "\"\"\"Code Here\n",
        "設定 callbacks: model checkpoint\n",
        "\"\"\"\n",
        "from keras.callbacks import ModelCheckpoint\n",
        "\n",
        "model_ckpt = ModelCheckpoint(filepath=\"./tmp.h5\", \n",
        "                             monitor=\"val_loss\", \n",
        "                             save_best_only=False)\n",
        "\n",
        "results = {}\n",
        "\"\"\"Code Here\n",
        "撰寫你的訓練流程並將結果用 dictionary 紀錄\n",
        "\"\"\"\n",
        "model = build_mlp(input_shape=x_train.shape[1:])\n",
        "model.summary()\n",
        "optimizer = keras.optimizers.SGD(lr=LEARNING_RATE, nesterov=True, momentum=MOMENTUM)\n",
        "model.compile(loss=\"categorical_crossentropy\", metrics=[\"accuracy\"], optimizer=optimizer)\n",
        "\n",
        "model.fit(x_train, y_train, \n",
        "          epochs=EPOCHS, \n",
        "          batch_size=BATCH_SIZE, \n",
        "          validation_data=(x_test, y_test), \n",
        "          shuffle=True,\n",
        "          callbacks=[model_ckpt]\n",
        "         )\n",
        "\n",
        "# Collect results\n",
        "train_loss = model.history.history[\"loss\"]\n",
        "valid_loss = model.history.history[\"val_loss\"]\n",
        "train_acc = model.history.history[\"acc\"]\n",
        "valid_acc = model.history.history[\"val_acc\"]\n",
        "\n",
        "# Load back\n",
        "model = keras.models.load_model(\"./tmp.h5\")\n",
        "loss_loadback, acc_loadback = model.evaluate(x_test, y_test)"
      ],
      "execution_count": 9,
      "outputs": [
        {
          "output_type": "stream",
          "text": [
            "_________________________________________________________________\n",
            "Layer (type)                 Output Shape              Param #   \n",
            "=================================================================\n",
            "input_2 (InputLayer)         (None, 3072)              0         \n",
            "_________________________________________________________________\n",
            "hidden_layer1 (Dense)        (None, 512)               1573376   \n",
            "_________________________________________________________________\n",
            "batch_normalization_4 (Batch (None, 512)               2048      \n",
            "_________________________________________________________________\n",
            "hidden_layer2 (Dense)        (None, 256)               131328    \n",
            "_________________________________________________________________\n",
            "batch_normalization_5 (Batch (None, 256)               1024      \n",
            "_________________________________________________________________\n",
            "hidden_layer3 (Dense)        (None, 128)               32896     \n",
            "_________________________________________________________________\n",
            "batch_normalization_6 (Batch (None, 128)               512       \n",
            "_________________________________________________________________\n",
            "output (Dense)               (None, 10)                1290      \n",
            "=================================================================\n",
            "Total params: 1,742,474\n",
            "Trainable params: 1,740,682\n",
            "Non-trainable params: 1,792\n",
            "_________________________________________________________________\n",
            "Train on 50000 samples, validate on 10000 samples\n",
            "Epoch 1/50\n",
            "50000/50000 [==============================] - 8s 166us/step - loss: 2.2506 - acc: 0.2694 - val_loss: 2.1281 - val_acc: 0.3099\n",
            "Epoch 2/50\n",
            "50000/50000 [==============================] - 8s 151us/step - loss: 1.7556 - acc: 0.3916 - val_loss: 1.8320 - val_acc: 0.3745\n",
            "Epoch 3/50\n",
            "50000/50000 [==============================] - 8s 154us/step - loss: 1.6286 - acc: 0.4321 - val_loss: 1.6945 - val_acc: 0.4064\n",
            "Epoch 4/50\n",
            "50000/50000 [==============================] - 8s 152us/step - loss: 1.5530 - acc: 0.4588 - val_loss: 1.6328 - val_acc: 0.4260\n",
            "Epoch 5/50\n",
            "50000/50000 [==============================] - 8s 151us/step - loss: 1.4958 - acc: 0.4789 - val_loss: 1.5875 - val_acc: 0.4413\n",
            "Epoch 6/50\n",
            "50000/50000 [==============================] - 7s 147us/step - loss: 1.4485 - acc: 0.4955 - val_loss: 1.5684 - val_acc: 0.4479\n",
            "Epoch 7/50\n",
            "50000/50000 [==============================] - 8s 155us/step - loss: 1.4080 - acc: 0.5090 - val_loss: 1.5454 - val_acc: 0.4552\n",
            "Epoch 8/50\n",
            "50000/50000 [==============================] - 8s 151us/step - loss: 1.3732 - acc: 0.5230 - val_loss: 1.5317 - val_acc: 0.4622\n",
            "Epoch 9/50\n",
            "50000/50000 [==============================] - 8s 150us/step - loss: 1.3410 - acc: 0.5353 - val_loss: 1.5240 - val_acc: 0.4632\n",
            "Epoch 10/50\n",
            "50000/50000 [==============================] - 7s 148us/step - loss: 1.3089 - acc: 0.5460 - val_loss: 1.5121 - val_acc: 0.4701\n",
            "Epoch 11/50\n",
            "50000/50000 [==============================] - 7s 149us/step - loss: 1.2831 - acc: 0.5566 - val_loss: 1.4952 - val_acc: 0.4728\n",
            "Epoch 12/50\n",
            "50000/50000 [==============================] - 8s 150us/step - loss: 1.2548 - acc: 0.5681 - val_loss: 1.5010 - val_acc: 0.4737\n",
            "Epoch 13/50\n",
            "50000/50000 [==============================] - 8s 155us/step - loss: 1.2295 - acc: 0.5759 - val_loss: 1.4734 - val_acc: 0.4803\n",
            "Epoch 14/50\n",
            "50000/50000 [==============================] - 7s 148us/step - loss: 1.2038 - acc: 0.5858 - val_loss: 1.4721 - val_acc: 0.4809\n",
            "Epoch 15/50\n",
            "50000/50000 [==============================] - 7s 149us/step - loss: 1.1812 - acc: 0.5960 - val_loss: 1.4816 - val_acc: 0.4840\n",
            "Epoch 16/50\n",
            "50000/50000 [==============================] - 8s 156us/step - loss: 1.1555 - acc: 0.6042 - val_loss: 1.4686 - val_acc: 0.4832\n",
            "Epoch 17/50\n",
            "50000/50000 [==============================] - 8s 154us/step - loss: 1.1339 - acc: 0.6137 - val_loss: 1.4677 - val_acc: 0.4873\n",
            "Epoch 18/50\n",
            "50000/50000 [==============================] - 8s 151us/step - loss: 1.1134 - acc: 0.6180 - val_loss: 1.4614 - val_acc: 0.4913\n",
            "Epoch 19/50\n",
            "50000/50000 [==============================] - 8s 153us/step - loss: 1.0887 - acc: 0.6288 - val_loss: 1.4573 - val_acc: 0.4877\n",
            "Epoch 20/50\n",
            "50000/50000 [==============================] - 8s 152us/step - loss: 1.0664 - acc: 0.6374 - val_loss: 1.4498 - val_acc: 0.4942\n",
            "Epoch 21/50\n",
            "50000/50000 [==============================] - 8s 152us/step - loss: 1.0454 - acc: 0.6457 - val_loss: 1.4660 - val_acc: 0.4892\n",
            "Epoch 22/50\n",
            "50000/50000 [==============================] - 7s 149us/step - loss: 1.0251 - acc: 0.6532 - val_loss: 1.4684 - val_acc: 0.4885\n",
            "Epoch 23/50\n",
            "50000/50000 [==============================] - 8s 154us/step - loss: 1.0040 - acc: 0.6609 - val_loss: 1.4532 - val_acc: 0.4937\n",
            "Epoch 24/50\n",
            "50000/50000 [==============================] - 7s 148us/step - loss: 0.9841 - acc: 0.6684 - val_loss: 1.4678 - val_acc: 0.4952\n",
            "Epoch 25/50\n",
            "50000/50000 [==============================] - 8s 155us/step - loss: 0.9626 - acc: 0.6764 - val_loss: 1.4600 - val_acc: 0.4982\n",
            "Epoch 26/50\n",
            "50000/50000 [==============================] - 8s 150us/step - loss: 0.9426 - acc: 0.6847 - val_loss: 1.4558 - val_acc: 0.4966\n",
            "Epoch 27/50\n",
            "50000/50000 [==============================] - 8s 151us/step - loss: 0.9219 - acc: 0.6923 - val_loss: 1.4725 - val_acc: 0.4952\n",
            "Epoch 28/50\n",
            "50000/50000 [==============================] - 8s 151us/step - loss: 0.9029 - acc: 0.7000 - val_loss: 1.4746 - val_acc: 0.4957\n",
            "Epoch 29/50\n",
            "50000/50000 [==============================] - 7s 148us/step - loss: 0.8823 - acc: 0.7090 - val_loss: 1.4770 - val_acc: 0.4948\n",
            "Epoch 30/50\n",
            "50000/50000 [==============================] - 7s 148us/step - loss: 0.8631 - acc: 0.7168 - val_loss: 1.4835 - val_acc: 0.4934\n",
            "Epoch 31/50\n",
            "50000/50000 [==============================] - 7s 150us/step - loss: 0.8435 - acc: 0.7246 - val_loss: 1.4944 - val_acc: 0.4980\n",
            "Epoch 32/50\n",
            "50000/50000 [==============================] - 7s 146us/step - loss: 0.8245 - acc: 0.7314 - val_loss: 1.4912 - val_acc: 0.4967\n",
            "Epoch 33/50\n",
            "50000/50000 [==============================] - 8s 152us/step - loss: 0.8058 - acc: 0.7397 - val_loss: 1.5041 - val_acc: 0.4877\n",
            "Epoch 34/50\n",
            "50000/50000 [==============================] - 7s 150us/step - loss: 0.7838 - acc: 0.7480 - val_loss: 1.5048 - val_acc: 0.4931\n",
            "Epoch 35/50\n",
            "50000/50000 [==============================] - 7s 147us/step - loss: 0.7662 - acc: 0.7546 - val_loss: 1.5264 - val_acc: 0.4890\n",
            "Epoch 36/50\n",
            "50000/50000 [==============================] - 7s 149us/step - loss: 0.7477 - acc: 0.7639 - val_loss: 1.5240 - val_acc: 0.4902\n",
            "Epoch 37/50\n",
            "50000/50000 [==============================] - 7s 150us/step - loss: 0.7282 - acc: 0.7705 - val_loss: 1.5440 - val_acc: 0.4895\n",
            "Epoch 38/50\n",
            "50000/50000 [==============================] - 7s 146us/step - loss: 0.7103 - acc: 0.7779 - val_loss: 1.5458 - val_acc: 0.4911\n",
            "Epoch 39/50\n",
            "50000/50000 [==============================] - 7s 148us/step - loss: 0.6931 - acc: 0.7838 - val_loss: 1.5459 - val_acc: 0.4919\n",
            "Epoch 40/50\n",
            "50000/50000 [==============================] - 7s 148us/step - loss: 0.6735 - acc: 0.7915 - val_loss: 1.5523 - val_acc: 0.4929\n",
            "Epoch 41/50\n",
            "50000/50000 [==============================] - 7s 149us/step - loss: 0.6558 - acc: 0.7986 - val_loss: 1.5758 - val_acc: 0.4913\n",
            "Epoch 42/50\n",
            "50000/50000 [==============================] - 8s 151us/step - loss: 0.6370 - acc: 0.8067 - val_loss: 1.5786 - val_acc: 0.4833\n",
            "Epoch 43/50\n",
            "50000/50000 [==============================] - 7s 147us/step - loss: 0.6185 - acc: 0.8140 - val_loss: 1.5901 - val_acc: 0.4870\n",
            "Epoch 44/50\n",
            "50000/50000 [==============================] - 7s 149us/step - loss: 0.6011 - acc: 0.8198 - val_loss: 1.6124 - val_acc: 0.4837\n",
            "Epoch 45/50\n",
            "50000/50000 [==============================] - 7s 149us/step - loss: 0.5842 - acc: 0.8281 - val_loss: 1.6144 - val_acc: 0.4875\n",
            "Epoch 46/50\n",
            "50000/50000 [==============================] - 7s 148us/step - loss: 0.5651 - acc: 0.8339 - val_loss: 1.6225 - val_acc: 0.4901\n",
            "Epoch 47/50\n",
            "50000/50000 [==============================] - 7s 146us/step - loss: 0.5486 - acc: 0.8414 - val_loss: 1.6443 - val_acc: 0.4847\n",
            "Epoch 48/50\n",
            "50000/50000 [==============================] - 7s 149us/step - loss: 0.5323 - acc: 0.8481 - val_loss: 1.6349 - val_acc: 0.4877\n",
            "Epoch 49/50\n",
            "50000/50000 [==============================] - 8s 150us/step - loss: 0.5158 - acc: 0.8526 - val_loss: 1.6537 - val_acc: 0.4928\n",
            "Epoch 50/50\n",
            "50000/50000 [==============================] - 8s 156us/step - loss: 0.4991 - acc: 0.8590 - val_loss: 1.7109 - val_acc: 0.4769\n",
            "10000/10000 [==============================] - 1s 138us/step\n"
          ],
          "name": "stdout"
        }
      ]
    },
    {
      "cell_type": "code",
      "metadata": {
        "id": "UtvTYrAU_lsA",
        "colab_type": "code",
        "colab": {
          "base_uri": "https://localhost:8080/",
          "height": 545
        },
        "outputId": "44d92280-40e6-4ea8-caec-6462018d022c"
      },
      "source": [
        "import matplotlib.pyplot as plt\n",
        "%matplotlib inline\n",
        "\n",
        "plt.plot(range(len(train_loss)), train_loss, label=\"train loss\")\n",
        "plt.plot(range(len(valid_loss)), valid_loss, label=\"valid loss\")\n",
        "plt.hlines(y=loss_loadback, xmin=0, xmax=len(train_loss), colors='r', linestyles='--')\n",
        "plt.legend()\n",
        "plt.title(\"Loss\")\n",
        "plt.show()\n",
        "\n",
        "plt.plot(range(len(train_acc)), train_acc, label=\"train accuracy\")\n",
        "plt.plot(range(len(valid_acc)), valid_acc, label=\"valid accuracy\")\n",
        "plt.hlines(y=acc_loadback, xmin=0, xmax=len(train_loss), colors='r', linestyles='--')\n",
        "plt.legend()\n",
        "plt.title(\"Accuracy\")\n",
        "plt.show()"
      ],
      "execution_count": 10,
      "outputs": [
        {
          "output_type": "display_data",
          "data": {
            "image/png": "[encoded data removed]",
            "text/plain": [
              "<Figure size 432x288 with 1 Axes>"
            ]
          },
          "metadata": {
            "tags": []
          }
        },
        {
          "output_type": "display_data",
          "data": {
            "image/png": "[encoded data removed]",
            "text/plain": [
              "<Figure size 432x288 with 1 Axes>"
            ]
          },
          "metadata": {
            "tags": []
          }
        }
      ]
    },
    {
      "cell_type": "code",
      "metadata": {
        "id": "mkCPHRQO_oy4",
        "colab_type": "code",
        "colab": {}
      },
      "source": [
        ""
      ],
      "execution_count": 0,
      "outputs": []
    }
  ]
}